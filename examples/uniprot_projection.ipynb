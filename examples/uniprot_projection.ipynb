{
  "cells": [
    {
      "cell_type": "markdown",
      "metadata": {
        "id": "view-in-github",
        "colab_type": "text"
      },
      "source": [
        "<a href=\"https://colab.research.google.com/github/adrian-jasinski-ardigen/bioemu_run/blob/main/examples/uniprot_projection.ipynb\" target=\"_parent\"><img src=\"https://colab.research.google.com/assets/colab-badge.svg\" alt=\"Open In Colab\"/></a>"
      ]
    },
    {
      "cell_type": "markdown",
      "id": "217200e8",
      "metadata": {
        "id": "217200e8"
      },
      "source": [
        "<div style=\"text-align: center; padding: 10px; background-color: #f0f8ff; border-radius: 10px; box-shadow: 0 4px 8px rgba(0,0,0,0.1);\">\n",
        "<h1 style=\"color: #2c3e50;\">FlatProt Projection from UniProt ID</h1>\n",
        "</div>\n",
        "\n",
        "<div style=\"padding: 15px; background-color: #f9f9f9; border-left: 5px solid #3498db; margin: 20px 0; border-radius: 5px;\">\n",
        "<b>Goal:</b> This notebook demonstrates how to fetch a protein structure from the\n",
        "AlphaFold Database (AFDB) using a UniProt ID, run DSSP to determine\n",
        "secondary structure, and then generate a 2D projection using FlatProt.\n",
        "</div>\n",
        "\n",
        "<div style=\"padding: 15px; background-color: #f9f9f9; border-radius: 5px; margin-bottom: 20px;\">\n",
        "<b>Workflow:</b>\n",
        "<ol style=\"margin-top: 10px;\">\n",
        "  <li><b>Setup:</b> Define the target UniProt ID and paths for output files.</li>\n",
        "  <li><b>Download:</b> Fetch the predicted structure file (CIF format) from AFDB.</li>\n",
        "  <li><b>DSSP:</b> Run <code>mkdssp</code> on the downloaded structure file.</li>\n",
        "  <li><b>Projection:</b> Run <code>flatprot project</code> using the structure file and the DSSP output to generate an SVG visualization.</li>\n",
        "  <li><b>Display:</b> Show the generated SVG file.</li>\n",
        "</ol>\n",
        "</div>"
      ]
    },
    {
      "cell_type": "markdown",
      "id": "96506c26",
      "metadata": {
        "id": "96506c26"
      },
      "source": [
        "<div style=\"background-color: #e9f7ef; padding: 15px; border-radius: 10px; border-left: 5px solid #27ae60; margin-bottom: 20px;\">\n",
        "<h2 style=\"color: #2c3e50; margin-top: 0;\">Configuration</h2>\n",
        "<p>Enter the UniProt ID for the protein of interest in the box below. This will be used for the entire analysis.</p>\n",
        "</div>"
      ]
    },
    {
      "cell_type": "code",
      "execution_count": null,
      "id": "3a076ef4",
      "metadata": {
        "id": "3a076ef4"
      },
      "outputs": [],
      "source": [
        "# @title 📋 Enter UniProt ID {display-mode: \"form\"}\n",
        "# Enter the UniProt ID for the protein you want to project\n",
        "UNIPROT_ID = \"apo\"  # @param {type:\"string\"}\n",
        "\n",
        "# Display some common examples as a guide\n",
        "print(f\"Using UniProt ID: {UNIPROT_ID}\")\n",
        "print(\"\\nCommon examples:\")\n",
        "print(\"• P69905 - Human Hemoglobin subunit alpha\")\n",
        "print(\"• P02144 - Human Myoglobin\")\n",
        "print(\"• P0DTD1 - SARS-CoV-2 Nsp3 protein\")"
      ]
    },
    {
      "cell_type": "markdown",
      "id": "fd4041ea",
      "metadata": {
        "id": "fd4041ea"
      },
      "source": [
        "<div style=\"background-color: #e8f4f8; padding: 15px; border-radius: 10px; border-left: 5px solid #2980b9; margin-bottom: 20px;\">\n",
        "<h2 style=\"color: #2c3e50; margin-top: 0;\">Environment Setup for Google Colab</h2>\n",
        "<p>The following cell sets up the required dependencies for this notebook.</p>\n",
        "</div>"
      ]
    },
    {
      "cell_type": "code",
      "execution_count": null,
      "id": "19ad59e6",
      "metadata": {
        "id": "19ad59e6"
      },
      "outputs": [],
      "source": [
        "# @title 🔧 Environment Setup {display-mode: \"form\"}\n",
        "# @hidden\n",
        "import sys\n",
        "import subprocess\n",
        "from pathlib import Path\n",
        "from typing import List, Optional, Tuple\n",
        "import time\n",
        "from IPython.display import display, HTML, clear_output\n",
        "\n",
        "# Check if in Colab and run setup\n",
        "IN_COLAB = \"google.colab\" in sys.modules\n",
        "if IN_COLAB:\n",
        "    print(\"Running in Google Colab. Fetching and executing setup script...\")\n",
        "    setup_script_url = (\n",
        "        \"https://raw.githubusercontent.com/t03i/FlatProt/main/examples/colab_setup.py\"\n",
        "    )\n",
        "    setup_script_local_path = Path(\"colab_setup.py\")\n",
        "\n",
        "    print(f\"Downloading {setup_script_url} to {setup_script_local_path}...\")\n",
        "    subprocess.run(\n",
        "        [\"wget\", \"-q\", \"-O\", str(setup_script_local_path), setup_script_url],\n",
        "        check=True,\n",
        "    )\n",
        "    print(\"Download complete.\")\n",
        "\n",
        "    if str(Path.cwd()) not in sys.path:\n",
        "        sys.path.insert(0, str(Path.cwd()))\n",
        "\n",
        "    if setup_script_local_path.exists():\n",
        "        import colab_setup\n",
        "\n",
        "        print(\"Running colab_setup.setup_colab_environment()...\")\n",
        "        colab_setup.setup_colab_environment()\n",
        "        print(\"Colab setup script finished.\")\n",
        "    else:\n",
        "        raise RuntimeError(\n",
        "            f\"Setup script {setup_script_local_path} not found after download.\"\n",
        "        )\n",
        "\n",
        "# Define base_dir (works for both Colab and local)\n",
        "base_dir = Path(\".\")\n",
        "\n",
        "# --- Path Definitions ---\n",
        "print(f\"Setting up directories...\")\n",
        "tmp_dir_base = base_dir / \"tmp\"\n",
        "tmp_dir_base.mkdir(parents=True, exist_ok=True)  # Ensure base tmp exists"
      ]
    },
    {
      "cell_type": "code",
      "execution_count": null,
      "id": "bbb7fb3b",
      "metadata": {
        "id": "bbb7fb3b"
      },
      "outputs": [],
      "source": [
        "# @title 🧰 Helper Functions {display-mode: \"form\"}\n",
        "# @hidden\n",
        "# Essential Imports\n",
        "try:\n",
        "    from IPython.display import display, HTML, clear_output\n",
        "except ImportError:\n",
        "    print(\"[WARN] IPython not found. SVG display will not work.\", file=sys.stderr)\n",
        "\n",
        "    # Define dummy functions if IPython is not available\n",
        "    def display(obj: object) -> None:\n",
        "        \"\"\"Dummy display function.\"\"\"\n",
        "        print(f\"Cannot display object: {obj}\")\n",
        "\n",
        "    def HTML(data: str) -> str:\n",
        "        \"\"\"Dummy HTML function.\"\"\"\n",
        "        print(f\"Cannot display HTML: {data}\")\n",
        "        return data\n",
        "\n",
        "\n",
        "# Helper function to display styled headers\n",
        "def display_header(\n",
        "    title: str, step_num: Optional[int] = None, color: str = \"#3498db\"\n",
        ") -> None:\n",
        "    \"\"\"\n",
        "    Display a styled header with optional step number.\n",
        "\n",
        "    Args:\n",
        "        title: The header title text\n",
        "        step_num: Optional step number to display\n",
        "        color: The accent color for the header\n",
        "    \"\"\"\n",
        "    step_text = f\"STEP {step_num}: \" if step_num is not None else \"\"\n",
        "    html = f\"\"\"\n",
        "    <div style=\"background-color: #f5f9fa; padding: 10px 15px; border-radius: 8px;\n",
        "                border-left: 5px solid {color}; margin: 20px 0 10px 0; box-shadow: 0 2px 4px rgba(0,0,0,0.1);\">\n",
        "        <h2 style=\"color: #2c3e50; margin: 0; font-size: 1.5em;\">{step_text}{title}</h2>\n",
        "    </div>\n",
        "    \"\"\"\n",
        "    display(HTML(html))\n",
        "\n",
        "\n",
        "# Helper function for styled status messages\n",
        "def status_message(message: str, status: str = \"info\") -> None:\n",
        "    \"\"\"\n",
        "    Display a styled status message.\n",
        "\n",
        "    Args:\n",
        "        message: The message to display\n",
        "        status: Status type (info, success, warning, error)\n",
        "    \"\"\"\n",
        "    color_map = {\n",
        "        \"info\": \"#3498db\",  # Blue\n",
        "        \"success\": \"#2ecc71\",  # Green\n",
        "        \"warning\": \"#f39c12\",  # Orange\n",
        "        \"error\": \"#e74c3c\",  # Red\n",
        "        \"working\": \"#9b59b6\",  # Purple\n",
        "    }\n",
        "\n",
        "    icon_map = {\n",
        "        \"info\": \"ℹ️\",\n",
        "        \"success\": \"✅\",\n",
        "        \"warning\": \"⚠️\",\n",
        "        \"error\": \"❌\",\n",
        "        \"working\": \"⏳\",\n",
        "    }\n",
        "\n",
        "    color = color_map.get(status.lower(), \"#3498db\")\n",
        "    icon = icon_map.get(status.lower(), \"ℹ️\")\n",
        "\n",
        "    html = f\"\"\"\n",
        "    <div style=\"color: {color}; margin: 5px 0; padding: 5px; font-family: monospace; font-size: 1.1em;\">\n",
        "        {icon} {message}\n",
        "    </div>\n",
        "    \"\"\"\n",
        "    display(HTML(html))\n",
        "\n",
        "\n",
        "# Function to show a simple progress bar\n",
        "def show_progress(percent: float, width: int = 60) -> None:\n",
        "    \"\"\"\n",
        "    Display a colored progress bar.\n",
        "\n",
        "    Args:\n",
        "        percent: Progress percentage (0-100)\n",
        "        width: Width of the progress bar in characters\n",
        "    \"\"\"\n",
        "    filled_len = int(width * percent / 100)\n",
        "    bar = (\n",
        "        f'<div style=\"width: 100%; background-color: #f0f0f0; border-radius: 5px; height: 20px; margin: 10px 0;\">'\n",
        "        f'<div style=\"width: {percent}%; background-color: #3498db; height: 100%; border-radius: 5px; '\n",
        "        f'text-align: center; color: white; line-height: 20px; font-size: 12px;\">{percent:.1f}%</div></div>'\n",
        "    )\n",
        "    display(HTML(bar))"
      ]
    },
    {
      "cell_type": "code",
      "execution_count": null,
      "id": "79da6429",
      "metadata": {
        "id": "79da6429"
      },
      "outputs": [],
      "source": [
        "# @title 📝 Configure Paths {display-mode: \"form\"}\n",
        "# @hidden\n",
        "display_header(\"Configuration\", 1, \"#27ae60\")\n",
        "\n",
        "# Define script-specific directories using the base paths\n",
        "tmp_dir = tmp_dir_base / f\"uniprot_{UNIPROT_ID}_projection\"\n",
        "tmp_dir.mkdir(parents=True, exist_ok=True)  # Ensure specific tmp exists\n",
        "status_message(f\"Using temporary directory: {tmp_dir.resolve()}\", \"info\")\n",
        "\n",
        "# Define file paths within the temporary directory\n",
        "# AFDB URL Format: https://alphafold.ebi.ac.uk/files/AF-{uniprot_id}-F1-model_v{version}.cif\n",
        "# We'll try v4 first, which is the latest as of writing.\n",
        "afdb_cif_filename = f\"AF-{UNIPROT_ID}-F1-model_v4.cif\"\n",
        "afdb_url = f\"https://alphafold.ebi.ac.uk/files/{afdb_cif_filename}\"\n",
        "input_cif_path = tmp_dir / afdb_cif_filename\n",
        "dssp_output_path = tmp_dir / f\"{UNIPROT_ID}.dssp\"\n",
        "svg_output_path = tmp_dir / f\"{UNIPROT_ID}_projection.svg\"\n",
        "\n",
        "# Show configuration details in a nice format\n",
        "config_html = f\"\"\"\n",
        "<div style=\"background-color: #f8f9fa; padding: 15px; border-radius: 8px; margin: 10px 0; font-family: monospace;\">\n",
        "  <div style=\"color: #2c3e50; font-weight: bold; margin-bottom: 10px; font-size: 1.1em;\">Configuration Summary:</div>\n",
        "  <table style=\"width: 100%; border-collapse: collapse;\">\n",
        "    <tr><td style=\"padding: 5px; color: #7f8c8d; width: 180px;\">UniProt ID:</td><td>{UNIPROT_ID}</td></tr>\n",
        "    <tr><td style=\"padding: 5px; color: #7f8c8d;\">AFDB URL:</td><td>{afdb_url}</td></tr>\n",
        "    <tr><td style=\"padding: 5px; color: #7f8c8d;\">Output CIF:</td><td>{input_cif_path}</td></tr>\n",
        "    <tr><td style=\"padding: 5px; color: #7f8c8d;\">Output DSSP:</td><td>{dssp_output_path}</td></tr>\n",
        "    <tr><td style=\"padding: 5px; color: #7f8c8d;\">Output SVG:</td><td>{svg_output_path}</td></tr>\n",
        "  </table>\n",
        "</div>\n",
        "\"\"\"\n",
        "display(HTML(config_html))\n",
        "\n",
        "status_message(\"Configuration complete!\", \"success\")"
      ]
    },
    {
      "cell_type": "markdown",
      "id": "015d59d8",
      "metadata": {
        "id": "015d59d8"
      },
      "source": [
        "<div style=\"background-color: #f9f4f8; padding: 15px; border-radius: 10px; border-left: 5px solid #8e44ad; margin-bottom: 20px;\">\n",
        "<h2 style=\"color: #2c3e50; margin-top: 0;\">Step 1: Download Structure from AlphaFold DB</h2>\n",
        "<p>Fetching the predicted protein structure in CIF format from the AlphaFold Database.</p>\n",
        "</div>"
      ]
    },
    {
      "cell_type": "code",
      "execution_count": null,
      "id": "901f2214",
      "metadata": {
        "lines_to_next_cell": 2,
        "id": "901f2214",
        "outputId": "79ac4375-5a5a-46a6-9f1c-39c0e7c17439",
        "colab": {
          "base_uri": "https://localhost:8080/",
          "height": 114
        }
      },
      "outputs": [
        {
          "data": {
            "text/html": [
              "\n",
              "    <div style=\"background-color: #f5f9fa; padding: 10px 15px; border-radius: 8px;\n",
              "                border-left: 5px solid #8e44ad; margin: 20px 0 10px 0; box-shadow: 0 2px 4px rgba(0,0,0,0.1);\">\n",
              "        <h2 style=\"color: #2c3e50; margin: 0; font-size: 1.5em;\">STEP 1: Downloading Structure from AlphaFold DB</h2>\n",
              "    </div>\n",
              "    "
            ],
            "text/plain": [
              "<IPython.core.display.HTML object>"
            ]
          },
          "metadata": {},
          "output_type": "display_data"
        },
        {
          "data": {
            "text/html": [
              "\n",
              "     <input type=\"file\" id=\"files-39c1661a-6430-43d0-967e-6fe6ec4786bd\" name=\"files[]\" multiple disabled\n",
              "        style=\"border:none\" />\n",
              "     <output id=\"result-39c1661a-6430-43d0-967e-6fe6ec4786bd\">\n",
              "      Upload widget is only available when the cell has been executed in the\n",
              "      current browser session. Please rerun this cell to enable.\n",
              "      </output>\n",
              "      <script>// Copyright 2017 Google LLC\n",
              "//\n",
              "// Licensed under the Apache License, Version 2.0 (the \"License\");\n",
              "// you may not use this file except in compliance with the License.\n",
              "// You may obtain a copy of the License at\n",
              "//\n",
              "//      http://www.apache.org/licenses/LICENSE-2.0\n",
              "//\n",
              "// Unless required by applicable law or agreed to in writing, software\n",
              "// distributed under the License is distributed on an \"AS IS\" BASIS,\n",
              "// WITHOUT WARRANTIES OR CONDITIONS OF ANY KIND, either express or implied.\n",
              "// See the License for the specific language governing permissions and\n",
              "// limitations under the License.\n",
              "\n",
              "/**\n",
              " * @fileoverview Helpers for google.colab Python module.\n",
              " */\n",
              "(function(scope) {\n",
              "function span(text, styleAttributes = {}) {\n",
              "  const element = document.createElement('span');\n",
              "  element.textContent = text;\n",
              "  for (const key of Object.keys(styleAttributes)) {\n",
              "    element.style[key] = styleAttributes[key];\n",
              "  }\n",
              "  return element;\n",
              "}\n",
              "\n",
              "// Max number of bytes which will be uploaded at a time.\n",
              "const MAX_PAYLOAD_SIZE = 100 * 1024;\n",
              "\n",
              "function _uploadFiles(inputId, outputId) {\n",
              "  const steps = uploadFilesStep(inputId, outputId);\n",
              "  const outputElement = document.getElementById(outputId);\n",
              "  // Cache steps on the outputElement to make it available for the next call\n",
              "  // to uploadFilesContinue from Python.\n",
              "  outputElement.steps = steps;\n",
              "\n",
              "  return _uploadFilesContinue(outputId);\n",
              "}\n",
              "\n",
              "// This is roughly an async generator (not supported in the browser yet),\n",
              "// where there are multiple asynchronous steps and the Python side is going\n",
              "// to poll for completion of each step.\n",
              "// This uses a Promise to block the python side on completion of each step,\n",
              "// then passes the result of the previous step as the input to the next step.\n",
              "function _uploadFilesContinue(outputId) {\n",
              "  const outputElement = document.getElementById(outputId);\n",
              "  const steps = outputElement.steps;\n",
              "\n",
              "  const next = steps.next(outputElement.lastPromiseValue);\n",
              "  return Promise.resolve(next.value.promise).then((value) => {\n",
              "    // Cache the last promise value to make it available to the next\n",
              "    // step of the generator.\n",
              "    outputElement.lastPromiseValue = value;\n",
              "    return next.value.response;\n",
              "  });\n",
              "}\n",
              "\n",
              "/**\n",
              " * Generator function which is called between each async step of the upload\n",
              " * process.\n",
              " * @param {string} inputId Element ID of the input file picker element.\n",
              " * @param {string} outputId Element ID of the output display.\n",
              " * @return {!Iterable<!Object>} Iterable of next steps.\n",
              " */\n",
              "function* uploadFilesStep(inputId, outputId) {\n",
              "  const inputElement = document.getElementById(inputId);\n",
              "  inputElement.disabled = false;\n",
              "\n",
              "  const outputElement = document.getElementById(outputId);\n",
              "  outputElement.innerHTML = '';\n",
              "\n",
              "  const pickedPromise = new Promise((resolve) => {\n",
              "    inputElement.addEventListener('change', (e) => {\n",
              "      resolve(e.target.files);\n",
              "    });\n",
              "  });\n",
              "\n",
              "  const cancel = document.createElement('button');\n",
              "  inputElement.parentElement.appendChild(cancel);\n",
              "  cancel.textContent = 'Cancel upload';\n",
              "  const cancelPromise = new Promise((resolve) => {\n",
              "    cancel.onclick = () => {\n",
              "      resolve(null);\n",
              "    };\n",
              "  });\n",
              "\n",
              "  // Wait for the user to pick the files.\n",
              "  const files = yield {\n",
              "    promise: Promise.race([pickedPromise, cancelPromise]),\n",
              "    response: {\n",
              "      action: 'starting',\n",
              "    }\n",
              "  };\n",
              "\n",
              "  cancel.remove();\n",
              "\n",
              "  // Disable the input element since further picks are not allowed.\n",
              "  inputElement.disabled = true;\n",
              "\n",
              "  if (!files) {\n",
              "    return {\n",
              "      response: {\n",
              "        action: 'complete',\n",
              "      }\n",
              "    };\n",
              "  }\n",
              "\n",
              "  for (const file of files) {\n",
              "    const li = document.createElement('li');\n",
              "    li.append(span(file.name, {fontWeight: 'bold'}));\n",
              "    li.append(span(\n",
              "        `(${file.type || 'n/a'}) - ${file.size} bytes, ` +\n",
              "        `last modified: ${\n",
              "            file.lastModifiedDate ? file.lastModifiedDate.toLocaleDateString() :\n",
              "                                    'n/a'} - `));\n",
              "    const percent = span('0% done');\n",
              "    li.appendChild(percent);\n",
              "\n",
              "    outputElement.appendChild(li);\n",
              "\n",
              "    const fileDataPromise = new Promise((resolve) => {\n",
              "      const reader = new FileReader();\n",
              "      reader.onload = (e) => {\n",
              "        resolve(e.target.result);\n",
              "      };\n",
              "      reader.readAsArrayBuffer(file);\n",
              "    });\n",
              "    // Wait for the data to be ready.\n",
              "    let fileData = yield {\n",
              "      promise: fileDataPromise,\n",
              "      response: {\n",
              "        action: 'continue',\n",
              "      }\n",
              "    };\n",
              "\n",
              "    // Use a chunked sending to avoid message size limits. See b/62115660.\n",
              "    let position = 0;\n",
              "    do {\n",
              "      const length = Math.min(fileData.byteLength - position, MAX_PAYLOAD_SIZE);\n",
              "      const chunk = new Uint8Array(fileData, position, length);\n",
              "      position += length;\n",
              "\n",
              "      const base64 = btoa(String.fromCharCode.apply(null, chunk));\n",
              "      yield {\n",
              "        response: {\n",
              "          action: 'append',\n",
              "          file: file.name,\n",
              "          data: base64,\n",
              "        },\n",
              "      };\n",
              "\n",
              "      let percentDone = fileData.byteLength === 0 ?\n",
              "          100 :\n",
              "          Math.round((position / fileData.byteLength) * 100);\n",
              "      percent.textContent = `${percentDone}% done`;\n",
              "\n",
              "    } while (position < fileData.byteLength);\n",
              "  }\n",
              "\n",
              "  // All done.\n",
              "  yield {\n",
              "    response: {\n",
              "      action: 'complete',\n",
              "    }\n",
              "  };\n",
              "}\n",
              "\n",
              "scope.google = scope.google || {};\n",
              "scope.google.colab = scope.google.colab || {};\n",
              "scope.google.colab._files = {\n",
              "  _uploadFiles,\n",
              "  _uploadFilesContinue,\n",
              "};\n",
              "})(self);\n",
              "</script> "
            ],
            "text/plain": [
              "<IPython.core.display.HTML object>"
            ]
          },
          "metadata": {},
          "output_type": "display_data"
        }
      ],
      "source": [
        "# @title 📥 Download AlphaFold Structure {display-mode: \"form\"}\n",
        "# @hidden\n",
        "display_header(\"Downloading Structure from AlphaFold DB\", 1, \"#8e44ad\")\n",
        "\n",
        "\n",
        "def download_file(url: str, output_path: Path) -> bool:\n",
        "    \"\"\"\n",
        "    Downloads a file from a URL to a specified path using wget.\n",
        "\n",
        "    Args:\n",
        "        url: The URL to download from.\n",
        "        output_path: The local path to save the file.\n",
        "\n",
        "    Returns:\n",
        "        True if download was successful, False otherwise.\n",
        "    \"\"\"\n",
        "    status_message(f\"Attempting to download from: {url}\", \"working\")\n",
        "\n",
        "    try:\n",
        "        # Show a progress animation during download\n",
        "        for i in range(5):\n",
        "            clear_output(wait=True)\n",
        "            display_header(\"Downloading Structure from AlphaFold DB\", 1, \"#8e44ad\")\n",
        "            status_message(f\"Downloading from: {url}\", \"working\")\n",
        "            show_progress(i * 20)\n",
        "            if i < 4:  # Skip sleep on last iteration\n",
        "                time.sleep(0.5)\n",
        "\n",
        "        # Use wget for downloading. -q for quiet, -O for output file.\n",
        "        cmd = [\"wget\", \"-q\", \"-O\", str(output_path), url]\n",
        "        result = subprocess.run(cmd, check=True, capture_output=True, text=True)\n",
        "\n",
        "        # Final progress\n",
        "        clear_output(wait=True)\n",
        "        display_header(\"Downloading Structure from AlphaFold DB\", 1, \"#8e44ad\")\n",
        "        status_message(f\"Downloading from: {url}\", \"info\")\n",
        "        show_progress(100)\n",
        "        status_message(f\"Successfully downloaded to: {output_path}\", \"success\")\n",
        "        return True\n",
        "    except subprocess.CalledProcessError as e:\n",
        "        clear_output(wait=True)\n",
        "        display_header(\"Downloading Structure from AlphaFold DB\", 1, \"#8e44ad\")\n",
        "        status_message(f\"Failed to download {url}. Error code: {e.returncode}\", \"error\")\n",
        "        if e.stderr:\n",
        "            error_html = f\"\"\"\n",
        "            <div style=\"background-color: #ffebee; border-left: 4px solid #e74c3c; padding: 10px; margin: 10px 0; font-family: monospace;\">\n",
        "                <div style=\"color: #c0392b; font-weight: bold;\">Error Output:</div>\n",
        "                <pre style=\"margin: 5px 0; color: #7f8c8d;\">{e.stderr.strip()}</pre>\n",
        "            </div>\n",
        "            \"\"\"\n",
        "            display(HTML(error_html))\n",
        "        if e.stdout:\n",
        "            display(HTML(f\"<pre>{e.stdout.strip()}</pre>\"))\n",
        "        # Clean up partially downloaded file if it exists\n",
        "        output_path.unlink(missing_ok=True)\n",
        "        return False\n",
        "    except Exception as e:\n",
        "        clear_output(wait=True)\n",
        "        display_header(\"Downloading Structure from AlphaFold DB\", 1, \"#8e44ad\")\n",
        "        status_message(f\"An unexpected error occurred during download: {e}\", \"error\")\n",
        "        output_path.unlink(missing_ok=True)\n",
        "        return False\n",
        "\n",
        "from google.colab import files\n",
        "uploaded = files.upload(input_cif_path)\n",
        "\n",
        "# Download the structure\n",
        "if not input_cif_path.exists():\n",
        "    download_successful = download_file(afdb_url, input_cif_path)\n",
        "    if not download_successful:\n",
        "        # Optional: Could add fallback logic here to try older AFDB versions if needed\n",
        "        error_html = \"\"\"\n",
        "        <div style=\"background-color: #ffebee; border-left: 4px solid #e74c3c; padding: 10px; margin: 10px 0;\">\n",
        "            <div style=\"color: #c0392b; font-weight: bold;\">Critical Error:</div>\n",
        "            <div style=\"margin-top: 5px;\">Could not download structure. Cannot proceed further.</div>\n",
        "        </div>\n",
        "        \"\"\"\n",
        "        display(HTML(error_html))\n",
        "        raise RuntimeError(f\"Could not download structure for {UNIPROT_ID}. Exiting.\")\n",
        "else:\n",
        "    status_message(f\"Structure file already exists: {input_cif_path}\", \"success\")"
      ]
    },
    {
      "cell_type": "markdown",
      "id": "5afcb663",
      "metadata": {
        "id": "5afcb663"
      },
      "source": [
        "<div style=\"background-color: #fff7e6; padding: 15px; border-radius: 10px; border-left: 5px solid #f39c12; margin-bottom: 20px;\">\n",
        "<h2 style=\"color: #2c3e50; margin-top: 0;\">Step 2: Run DSSP</h2>\n",
        "<p>Calculating secondary structure information from the downloaded CIF file using the <code>mkdssp</code> tool.</p>\n",
        "</div>"
      ]
    },
    {
      "cell_type": "code",
      "execution_count": null,
      "id": "a3bebb1f",
      "metadata": {
        "lines_to_next_cell": 2,
        "id": "a3bebb1f",
        "outputId": "da36278a-e951-42ed-b573-e3cdd277289a",
        "colab": {
          "base_uri": "https://localhost:8080/",
          "height": 354
        }
      },
      "outputs": [
        {
          "output_type": "display_data",
          "data": {
            "text/plain": [
              "<IPython.core.display.HTML object>"
            ],
            "text/html": [
              "\n",
              "    <div style=\"background-color: #f5f9fa; padding: 10px 15px; border-radius: 8px;\n",
              "                border-left: 5px solid #f39c12; margin: 20px 0 10px 0; box-shadow: 0 2px 4px rgba(0,0,0,0.1);\">\n",
              "        <h2 style=\"color: #2c3e50; margin: 0; font-size: 1.5em;\">STEP 2: Running DSSP</h2>\n",
              "    </div>\n",
              "    "
            ]
          },
          "metadata": {}
        },
        {
          "output_type": "display_data",
          "data": {
            "text/plain": [
              "<IPython.core.display.HTML object>"
            ],
            "text/html": [
              "\n",
              "    <div style=\"background-color: #f0f0f0; padding: 10px; border-radius: 5px; margin: 10px 0; font-family: monospace;\">\n",
              "        <span style=\"color: #2c3e50;\">Running command: </span>\n",
              "        <span style=\"color: #2980b9;\">mkdssp -i tmp/uniprot_P69905_projection/AF-P69905-F1-model_v4.cif -o tmp/uniprot_P69905_projection/P69905.dssp</span>\n",
              "    </div>\n",
              "    "
            ]
          },
          "metadata": {}
        },
        {
          "output_type": "display_data",
          "data": {
            "text/plain": [
              "<IPython.core.display.HTML object>"
            ],
            "text/html": [
              "<div style=\"width: 100%; background-color: #f0f0f0; border-radius: 5px; height: 20px; margin: 10px 0;\"><div style=\"width: 0%; background-color: #3498db; height: 100%; border-radius: 5px; text-align: center; color: white; line-height: 20px; font-size: 12px;\">0.0%</div></div>"
            ]
          },
          "metadata": {}
        },
        {
          "output_type": "display_data",
          "data": {
            "text/plain": [
              "<IPython.core.display.HTML object>"
            ],
            "text/html": [
              "<div style=\"width: 100%; background-color: #f0f0f0; border-radius: 5px; height: 20px; margin: 10px 0;\"><div style=\"width: 20%; background-color: #3498db; height: 100%; border-radius: 5px; text-align: center; color: white; line-height: 20px; font-size: 12px;\">20.0%</div></div>"
            ]
          },
          "metadata": {}
        },
        {
          "output_type": "display_data",
          "data": {
            "text/plain": [
              "<IPython.core.display.HTML object>"
            ],
            "text/html": [
              "<div style=\"width: 100%; background-color: #f0f0f0; border-radius: 5px; height: 20px; margin: 10px 0;\"><div style=\"width: 40%; background-color: #3498db; height: 100%; border-radius: 5px; text-align: center; color: white; line-height: 20px; font-size: 12px;\">40.0%</div></div>"
            ]
          },
          "metadata": {}
        },
        {
          "output_type": "display_data",
          "data": {
            "text/plain": [
              "<IPython.core.display.HTML object>"
            ],
            "text/html": [
              "<div style=\"width: 100%; background-color: #f0f0f0; border-radius: 5px; height: 20px; margin: 10px 0;\"><div style=\"width: 60%; background-color: #3498db; height: 100%; border-radius: 5px; text-align: center; color: white; line-height: 20px; font-size: 12px;\">60.0%</div></div>"
            ]
          },
          "metadata": {}
        },
        {
          "output_type": "display_data",
          "data": {
            "text/plain": [
              "<IPython.core.display.HTML object>"
            ],
            "text/html": [
              "<div style=\"width: 100%; background-color: #f0f0f0; border-radius: 5px; height: 20px; margin: 10px 0;\"><div style=\"width: 80%; background-color: #3498db; height: 100%; border-radius: 5px; text-align: center; color: white; line-height: 20px; font-size: 12px;\">80.0%</div></div>"
            ]
          },
          "metadata": {}
        },
        {
          "output_type": "display_data",
          "data": {
            "text/plain": [
              "<IPython.core.display.HTML object>"
            ],
            "text/html": [
              "<div style=\"width: 100%; background-color: #f0f0f0; border-radius: 5px; height: 20px; margin: 10px 0;\"><div style=\"width: 100%; background-color: #3498db; height: 100%; border-radius: 5px; text-align: center; color: white; line-height: 20px; font-size: 12px;\">100.0%</div></div>"
            ]
          },
          "metadata": {}
        },
        {
          "output_type": "display_data",
          "data": {
            "text/plain": [
              "<IPython.core.display.HTML object>"
            ],
            "text/html": [
              "\n",
              "    <div style=\"color: #2ecc71; margin: 5px 0; padding: 5px; font-family: monospace; font-size: 1.1em;\">\n",
              "        ✅ Successfully generated DSSP file: tmp/uniprot_P69905_projection/P69905.dssp\n",
              "    </div>\n",
              "    "
            ]
          },
          "metadata": {}
        }
      ],
      "source": [
        "# @title 🧬 Run DSSP Analysis {display-mode: \"form\"}\n",
        "# @hidden\n",
        "display_header(\"Running DSSP\", 2, \"#f39c12\")\n",
        "\n",
        "\n",
        "def run_mkdssp(input_cif: Path, output_dssp: Path) -> bool:\n",
        "    \"\"\"\n",
        "    Runs the mkdssp command on an input CIF file.\n",
        "\n",
        "    Args:\n",
        "        input_cif: Path to the input structure file (CIF format).\n",
        "        output_dssp: Path to save the DSSP output file.\n",
        "\n",
        "    Returns:\n",
        "        True if DSSP ran successfully, False otherwise.\n",
        "    \"\"\"\n",
        "    if not input_cif.exists():\n",
        "        status_message(f\"Input CIF file not found: {input_cif}\", \"error\")\n",
        "        return False\n",
        "\n",
        "    cmd = [\"mkdssp\", \"-i\", str(input_cif), \"-o\", str(output_dssp)]\n",
        "\n",
        "    # Display command\n",
        "    cmd_html = f\"\"\"\n",
        "    <div style=\"background-color: #f0f0f0; padding: 10px; border-radius: 5px; margin: 10px 0; font-family: monospace;\">\n",
        "        <span style=\"color: #2c3e50;\">Running command: </span>\n",
        "        <span style=\"color: #2980b9;\">{\" \".join(cmd)}</span>\n",
        "    </div>\n",
        "    \"\"\"\n",
        "    display(HTML(cmd_html))\n",
        "\n",
        "    # Show progress animation\n",
        "    for i in range(5):\n",
        "        show_progress(i * 20)\n",
        "        if i < 4:  # Skip sleep on last iteration\n",
        "            time.sleep(0.3)\n",
        "\n",
        "    try:\n",
        "        # Check if DSSP command exists first (optional but good practice)\n",
        "        # We rely on colab_setup or user environment for DSSP installation\n",
        "        process = subprocess.run(cmd, check=True, capture_output=True, text=True)\n",
        "\n",
        "        # Show final progress\n",
        "        show_progress(100)\n",
        "        status_message(f\"Successfully generated DSSP file: {output_dssp}\", \"success\")\n",
        "\n",
        "        if process.stdout:  # DSSP might print info to stdout\n",
        "            stdout_html = f\"\"\"\n",
        "            <div style=\"background-color: #f8f9fa; border-left: 4px solid #2980b9; padding: 10px; margin: 10px 0; max-height: 200px; overflow-y: auto; font-family: monospace;\">\n",
        "                <div style=\"color: #2980b9; font-weight: bold;\">DSSP Output:</div>\n",
        "                <pre style=\"margin: 5px 0; color: #7f8c8d;\">{process.stdout}</pre>\n",
        "            </div>\n",
        "            \"\"\"\n",
        "            display(HTML(stdout_html))\n",
        "        return True\n",
        "    except FileNotFoundError:\n",
        "        status_message(\n",
        "            \"'mkdssp' command not found. Ensure DSSP is installed and in PATH.\", \"error\"\n",
        "        )\n",
        "        if IN_COLAB:\n",
        "            error_html = \"\"\"\n",
        "            <div style=\"background-color: #fff8e1; border-left: 4px solid #f39c12; padding: 10px; margin: 10px 0;\">\n",
        "                Check the 'colab_setup.py' script installation steps.\n",
        "            </div>\n",
        "            \"\"\"\n",
        "            display(HTML(error_html))\n",
        "        return False\n",
        "    except subprocess.CalledProcessError as e:\n",
        "        status_message(f\"mkdssp failed with code {e.returncode}\", \"error\")\n",
        "        if e.stderr:\n",
        "            error_html = f\"\"\"\n",
        "            <div style=\"background-color: #ffebee; border-left: 4px solid #e74c3c; padding: 10px; margin: 10px 0; font-family: monospace;\">\n",
        "                <div style=\"color: #c0392b; font-weight: bold;\">Error Output:</div>\n",
        "                <pre style=\"margin: 5px 0; color: #7f8c8d;\">{e.stderr}</pre>\n",
        "            </div>\n",
        "            \"\"\"\n",
        "            display(HTML(error_html))\n",
        "        if e.stdout:\n",
        "            display(HTML(f\"<pre>{e.stdout}</pre>\"))\n",
        "        return False\n",
        "    except Exception as e:\n",
        "        status_message(f\"An unexpected error occurred running mkdssp: {e}\", \"error\")\n",
        "        return False\n",
        "\n",
        "\n",
        "# Run DSSP\n",
        "dssp_successful = run_mkdssp(input_cif_path, dssp_output_path)\n",
        "if not dssp_successful:\n",
        "    warning_html = \"\"\"\n",
        "    <div style=\"background-color: #fff8e1; border-left: 4px solid #f39c12; padding: 10px; margin: 10px 0;\">\n",
        "        <div style=\"color: #d35400; font-weight: bold;\">Warning:</div>\n",
        "        <div style=\"margin-top: 5px;\">DSSP execution failed. Proceeding with FlatProt projection WITHOUT DSSP data.</div>\n",
        "        <div style=\"margin-top: 5px; font-style: italic; color: #7f8c8d;\">\n",
        "            Note: Secondary structure coloring will not be available in the projection.\n",
        "        </div>\n",
        "    </div>\n",
        "    \"\"\"\n",
        "    display(HTML(warning_html))\n",
        "    # Set path to None to signal projection to skip it\n",
        "    dssp_output_path = None"
      ]
    },
    {
      "cell_type": "markdown",
      "id": "d9ad7048",
      "metadata": {
        "id": "d9ad7048"
      },
      "source": [
        "<div style=\"background-color: #e8f6f3; padding: 15px; border-radius: 10px; border-left: 5px solid #16a085; margin-bottom: 20px;\">\n",
        "<h2 style=\"color: #2c3e50; margin-top: 0;\">Step 3: Run FlatProt Projection</h2>\n",
        "<p>Generating the 2D projection of the protein structure using <code>flatprot project</code>.</p>\n",
        "</div>"
      ]
    },
    {
      "cell_type": "code",
      "execution_count": null,
      "id": "b10bd075",
      "metadata": {
        "lines_to_next_cell": 2,
        "id": "b10bd075",
        "outputId": "43ed21ba-f971-4582-db3f-d99fe1cbd303",
        "colab": {
          "base_uri": "https://localhost:8080/",
          "height": 660
        }
      },
      "outputs": [
        {
          "output_type": "display_data",
          "data": {
            "text/plain": [
              "<IPython.core.display.HTML object>"
            ],
            "text/html": [
              "\n",
              "    <div style=\"background-color: #f5f9fa; padding: 10px 15px; border-radius: 8px;\n",
              "                border-left: 5px solid #16a085; margin: 20px 0 10px 0; box-shadow: 0 2px 4px rgba(0,0,0,0.1);\">\n",
              "        <h2 style=\"color: #2c3e50; margin: 0; font-size: 1.5em;\">STEP 3: Running FlatProt Projection</h2>\n",
              "    </div>\n",
              "    "
            ]
          },
          "metadata": {}
        },
        {
          "output_type": "display_data",
          "data": {
            "text/plain": [
              "<IPython.core.display.HTML object>"
            ],
            "text/html": [
              "\n",
              "    <div style=\"color: #3498db; margin: 5px 0; padding: 5px; font-family: monospace; font-size: 1.1em;\">\n",
              "        ℹ️ Using DSSP file: tmp/uniprot_P69905_projection/P69905.dssp\n",
              "    </div>\n",
              "    "
            ]
          },
          "metadata": {}
        },
        {
          "output_type": "display_data",
          "data": {
            "text/plain": [
              "<IPython.core.display.HTML object>"
            ],
            "text/html": [
              "\n",
              "    <div style=\"background-color: #f0f0f0; padding: 10px; border-radius: 5px; margin: 10px 0; font-family: monospace;\">\n",
              "        <span style=\"color: #2c3e50;\">Running command: </span>\n",
              "        <span style=\"color: #16a085;\">uv run flatprot project tmp/uniprot_P69905_projection/AF-P69905-F1-model_v4.cif -o tmp/uniprot_P69905_projection/P69905_projection.svg --quiet --dssp tmp/uniprot_P69905_projection/P69905.dssp --canvas-width 500 --canvas-height 400</span>\n",
              "    </div>\n",
              "    "
            ]
          },
          "metadata": {}
        },
        {
          "output_type": "display_data",
          "data": {
            "text/plain": [
              "<IPython.core.display.HTML object>"
            ],
            "text/html": [
              "\n",
              "    <div style=\"color: #9b59b6; margin: 5px 0; padding: 5px; font-family: monospace; font-size: 1.1em;\">\n",
              "        ⏳ Generating projection...\n",
              "    </div>\n",
              "    "
            ]
          },
          "metadata": {}
        },
        {
          "output_type": "display_data",
          "data": {
            "text/plain": [
              "<IPython.core.display.HTML object>"
            ],
            "text/html": [
              "<div style=\"width: 100%; background-color: #f0f0f0; border-radius: 5px; height: 20px; margin: 10px 0;\"><div style=\"width: 0%; background-color: #3498db; height: 100%; border-radius: 5px; text-align: center; color: white; line-height: 20px; font-size: 12px;\">0.0%</div></div>"
            ]
          },
          "metadata": {}
        },
        {
          "output_type": "display_data",
          "data": {
            "text/plain": [
              "<IPython.core.display.HTML object>"
            ],
            "text/html": [
              "<div style=\"width: 100%; background-color: #f0f0f0; border-radius: 5px; height: 20px; margin: 10px 0;\"><div style=\"width: 10%; background-color: #3498db; height: 100%; border-radius: 5px; text-align: center; color: white; line-height: 20px; font-size: 12px;\">10.0%</div></div>"
            ]
          },
          "metadata": {}
        },
        {
          "output_type": "display_data",
          "data": {
            "text/plain": [
              "<IPython.core.display.HTML object>"
            ],
            "text/html": [
              "<div style=\"width: 100%; background-color: #f0f0f0; border-radius: 5px; height: 20px; margin: 10px 0;\"><div style=\"width: 20%; background-color: #3498db; height: 100%; border-radius: 5px; text-align: center; color: white; line-height: 20px; font-size: 12px;\">20.0%</div></div>"
            ]
          },
          "metadata": {}
        },
        {
          "output_type": "display_data",
          "data": {
            "text/plain": [
              "<IPython.core.display.HTML object>"
            ],
            "text/html": [
              "<div style=\"width: 100%; background-color: #f0f0f0; border-radius: 5px; height: 20px; margin: 10px 0;\"><div style=\"width: 30%; background-color: #3498db; height: 100%; border-radius: 5px; text-align: center; color: white; line-height: 20px; font-size: 12px;\">30.0%</div></div>"
            ]
          },
          "metadata": {}
        },
        {
          "output_type": "display_data",
          "data": {
            "text/plain": [
              "<IPython.core.display.HTML object>"
            ],
            "text/html": [
              "<div style=\"width: 100%; background-color: #f0f0f0; border-radius: 5px; height: 20px; margin: 10px 0;\"><div style=\"width: 40%; background-color: #3498db; height: 100%; border-radius: 5px; text-align: center; color: white; line-height: 20px; font-size: 12px;\">40.0%</div></div>"
            ]
          },
          "metadata": {}
        },
        {
          "output_type": "display_data",
          "data": {
            "text/plain": [
              "<IPython.core.display.HTML object>"
            ],
            "text/html": [
              "<div style=\"width: 100%; background-color: #f0f0f0; border-radius: 5px; height: 20px; margin: 10px 0;\"><div style=\"width: 50%; background-color: #3498db; height: 100%; border-radius: 5px; text-align: center; color: white; line-height: 20px; font-size: 12px;\">50.0%</div></div>"
            ]
          },
          "metadata": {}
        },
        {
          "output_type": "display_data",
          "data": {
            "text/plain": [
              "<IPython.core.display.HTML object>"
            ],
            "text/html": [
              "<div style=\"width: 100%; background-color: #f0f0f0; border-radius: 5px; height: 20px; margin: 10px 0;\"><div style=\"width: 60%; background-color: #3498db; height: 100%; border-radius: 5px; text-align: center; color: white; line-height: 20px; font-size: 12px;\">60.0%</div></div>"
            ]
          },
          "metadata": {}
        },
        {
          "output_type": "display_data",
          "data": {
            "text/plain": [
              "<IPython.core.display.HTML object>"
            ],
            "text/html": [
              "<div style=\"width: 100%; background-color: #f0f0f0; border-radius: 5px; height: 20px; margin: 10px 0;\"><div style=\"width: 70%; background-color: #3498db; height: 100%; border-radius: 5px; text-align: center; color: white; line-height: 20px; font-size: 12px;\">70.0%</div></div>"
            ]
          },
          "metadata": {}
        },
        {
          "output_type": "display_data",
          "data": {
            "text/plain": [
              "<IPython.core.display.HTML object>"
            ],
            "text/html": [
              "<div style=\"width: 100%; background-color: #f0f0f0; border-radius: 5px; height: 20px; margin: 10px 0;\"><div style=\"width: 80%; background-color: #3498db; height: 100%; border-radius: 5px; text-align: center; color: white; line-height: 20px; font-size: 12px;\">80.0%</div></div>"
            ]
          },
          "metadata": {}
        },
        {
          "output_type": "display_data",
          "data": {
            "text/plain": [
              "<IPython.core.display.HTML object>"
            ],
            "text/html": [
              "<div style=\"width: 100%; background-color: #f0f0f0; border-radius: 5px; height: 20px; margin: 10px 0;\"><div style=\"width: 90%; background-color: #3498db; height: 100%; border-radius: 5px; text-align: center; color: white; line-height: 20px; font-size: 12px;\">90.0%</div></div>"
            ]
          },
          "metadata": {}
        },
        {
          "output_type": "display_data",
          "data": {
            "text/plain": [
              "<IPython.core.display.HTML object>"
            ],
            "text/html": [
              "<div style=\"width: 100%; background-color: #f0f0f0; border-radius: 5px; height: 20px; margin: 10px 0;\"><div style=\"width: 100%; background-color: #3498db; height: 100%; border-radius: 5px; text-align: center; color: white; line-height: 20px; font-size: 12px;\">100.0%</div></div>"
            ]
          },
          "metadata": {}
        },
        {
          "output_type": "stream",
          "name": "stdout",
          "text": [
            " $ uv run flatprot project tmp/uniprot_P69905_projection/AF-P69905-F1-model_v4.cif -o tmp/uniprot_P69905_projection/P69905_projection.svg --quiet --dssp tmp/uniprot_P69905_projection/P69905.dssp --canvas-width 500 --canvas-height 400\n",
            " -> Command finished successfully.\n"
          ]
        },
        {
          "output_type": "display_data",
          "data": {
            "text/plain": [
              "<IPython.core.display.HTML object>"
            ],
            "text/html": [
              "\n",
              "    <div style=\"color: #2ecc71; margin: 5px 0; padding: 5px; font-family: monospace; font-size: 1.1em;\">\n",
              "        ✅ Successfully generated projection: tmp/uniprot_P69905_projection/P69905_projection.svg\n",
              "    </div>\n",
              "    "
            ]
          },
          "metadata": {}
        }
      ],
      "source": [
        "# @title 🎨 Generate FlatProt Projection {display-mode: \"form\"}\n",
        "# @hidden\n",
        "display_header(\"Running FlatProt Projection\", 3, \"#16a085\")\n",
        "\n",
        "\n",
        "def run_flatprot_project(\n",
        "    input_path: Path,\n",
        "    output_path: Path,\n",
        "    dssp_path: Optional[Path] = None,\n",
        "    canvas_args: str = \"--canvas-width 500 --canvas-height 400\",\n",
        ") -> bool:\n",
        "    \"\"\"\n",
        "    Runs the flatprot project command.\n",
        "\n",
        "    Args:\n",
        "        input_path: Path to the input structure file (CIF).\n",
        "        output_path: Path to save the output SVG file.\n",
        "        dssp_path: Optional path to the DSSP file.\n",
        "        canvas_args: String containing canvas dimension arguments.\n",
        "\n",
        "    Returns:\n",
        "        True if projection was successful, False otherwise.\n",
        "    \"\"\"\n",
        "    if not input_path.exists():\n",
        "        status_message(f\"Input structure file not found: {input_path}\", \"error\")\n",
        "        return False\n",
        "\n",
        "    cmd = [\n",
        "        \"uv\",\n",
        "        \"run\",\n",
        "        \"flatprot\",\n",
        "        \"project\",\n",
        "        str(input_path),\n",
        "        \"-o\",\n",
        "        str(output_path),\n",
        "        \"--quiet\",  # Reduce verbosity\n",
        "    ]\n",
        "    if dssp_path and dssp_path.exists():\n",
        "        cmd.extend([\"--dssp\", str(dssp_path)])\n",
        "        status_message(f\"Using DSSP file: {dssp_path}\", \"info\")\n",
        "    elif dssp_path:\n",
        "        status_message(\n",
        "            f\"DSSP file specified but not found: {dssp_path}. Projecting without it.\",\n",
        "            \"warning\",\n",
        "        )\n",
        "    else:\n",
        "        status_message(\"Projecting without DSSP file.\", \"info\")\n",
        "\n",
        "    # Add canvas arguments if provided\n",
        "    if canvas_args:\n",
        "        cmd.extend(canvas_args.split())\n",
        "\n",
        "    # Display command\n",
        "    cmd_html = f\"\"\"\n",
        "    <div style=\"background-color: #f0f0f0; padding: 10px; border-radius: 5px; margin: 10px 0; font-family: monospace;\">\n",
        "        <span style=\"color: #2c3e50;\">Running command: </span>\n",
        "        <span style=\"color: #16a085;\">{\" \".join(cmd)}</span>\n",
        "    </div>\n",
        "    \"\"\"\n",
        "    display(HTML(cmd_html))\n",
        "\n",
        "    # Show progress animation for projection process\n",
        "    status_message(\"Generating projection...\", \"working\")\n",
        "    for i in range(11):\n",
        "        show_progress(i * 10)\n",
        "        if i < 10:  # Skip sleep on last iteration\n",
        "            time.sleep(0.2)\n",
        "\n",
        "    try:\n",
        "        # Prefer run_cmd from colab_setup if available and defined\n",
        "        if \"colab_setup\" in sys.modules and hasattr(colab_setup, \"run_cmd\"):\n",
        "            colab_setup.run_cmd(cmd)\n",
        "        else:\n",
        "            # Fallback to simple subprocess run\n",
        "            subprocess.run(cmd, check=True, capture_output=True, text=True)\n",
        "        status_message(f\"Successfully generated projection: {output_path}\", \"success\")\n",
        "        return True\n",
        "    except subprocess.CalledProcessError as e:\n",
        "        status_message(f\"FlatProt projection failed with code {e.returncode}\", \"error\")\n",
        "        if e.stderr:\n",
        "            error_html = f\"\"\"\n",
        "            <div style=\"background-color: #ffebee; border-left: 4px solid #e74c3c; padding: 10px; margin: 10px 0; font-family: monospace;\">\n",
        "                <div style=\"color: #c0392b; font-weight: bold;\">Error Output:</div>\n",
        "                <pre style=\"margin: 5px 0; color: #7f8c8d;\">{e.stderr.strip()}</pre>\n",
        "            </div>\n",
        "            \"\"\"\n",
        "            display(HTML(error_html))\n",
        "        if e.stdout:\n",
        "            display(HTML(f\"<pre>{e.stdout.strip()}</pre>\"))\n",
        "        return False\n",
        "    except Exception as e:\n",
        "        status_message(f\"An unexpected error occurred during projection: {e}\", \"error\")\n",
        "        return False\n",
        "\n",
        "\n",
        "# Run the projection\n",
        "projection_successful = run_flatprot_project(\n",
        "    input_cif_path, svg_output_path, dssp_output_path\n",
        ")\n",
        "\n",
        "if not projection_successful:\n",
        "    error_html = \"\"\"\n",
        "    <div style=\"background-color: #ffebee; border-left: 4px solid #e74c3c; padding: 10px; margin: 10px 0;\">\n",
        "        <div style=\"color: #c0392b; font-weight: bold;\">Critical Error:</div>\n",
        "        <div style=\"margin-top: 5px;\">FlatProt projection failed. Cannot display result.</div>\n",
        "    </div>\n",
        "    \"\"\"\n",
        "    display(HTML(error_html))\n",
        "    raise RuntimeError(\"FlatProt projection failed. Cannot display result.\")"
      ]
    },
    {
      "cell_type": "markdown",
      "id": "ee8eeded",
      "metadata": {
        "id": "ee8eeded"
      },
      "source": [
        "<div style=\"background-color: #eaf2f8; padding: 15px; border-radius: 10px; border-left: 5px solid #3498db; margin-bottom: 20px;\">\n",
        "<h2 style=\"color: #2c3e50; margin-top: 0;\">Results: 2D Protein Structure Visualization</h2>\n",
        "<p>Displaying the generated 2D projection of the protein structure.</p>\n",
        "</div>"
      ]
    },
    {
      "cell_type": "code",
      "execution_count": null,
      "id": "f29d5453",
      "metadata": {
        "id": "f29d5453",
        "outputId": "81bd35c8-d2c6-4da9-f53c-14649947a608",
        "colab": {
          "base_uri": "https://localhost:8080/",
          "height": 1000
        }
      },
      "outputs": [
        {
          "output_type": "display_data",
          "data": {
            "text/plain": [
              "<IPython.core.display.HTML object>"
            ],
            "text/html": [
              "\n",
              "    <div style=\"background-color: #f5f9fa; padding: 10px 15px; border-radius: 8px;\n",
              "                border-left: 5px solid #3498db; margin: 20px 0 10px 0; box-shadow: 0 2px 4px rgba(0,0,0,0.1);\">\n",
              "        <h2 style=\"color: #2c3e50; margin: 0; font-size: 1.5em;\">STEP 4: Displaying Generated SVG</h2>\n",
              "    </div>\n",
              "    "
            ]
          },
          "metadata": {}
        },
        {
          "output_type": "display_data",
          "data": {
            "text/plain": [
              "<IPython.core.display.HTML object>"
            ],
            "text/html": [
              "\n",
              "    <div style=\"color: #2ecc71; margin: 5px 0; padding: 5px; font-family: monospace; font-size: 1.1em;\">\n",
              "        ✅ Displaying final projection...\n",
              "    </div>\n",
              "    "
            ]
          },
          "metadata": {}
        },
        {
          "output_type": "display_data",
          "data": {
            "text/plain": [
              "<IPython.core.display.HTML object>"
            ],
            "text/html": [
              "<div style=\"display: flex; justify-content: space-around; align-items: flex-start; flex-wrap: wrap; width: 100%;\">\n",
              "            <div style=\"width: 95%; max-width: 800px; border: 1px solid #ddd; text-align: center; padding: 20px; margin: 15px auto; border-radius: 12px; background-color: white; box-shadow: 0 4px 8px rgba(0,0,0,0.1); transition: all 0.3s ease;\">\n",
              "                <h3 style=\"margin-bottom: 15px; font-family: sans-serif; color: #2c3e50; word-wrap: break-word;\">FlatProt Projection: P69905</h3>\n",
              "                <?xml version=\"1.0\" encoding=\"UTF-8\"?>\n",
              "<svg style=\"width: 100%; height: auto; display: block; margin: auto; transition: all 0.3s ease;\" xmlns=\"http://www.w3.org/2000/svg\" xmlns:xlink=\"http://www.w3.org/1999/xlink\"\n",
              "     width=\"500\" height=\"400\" viewBox=\"0 0 500 400\">\n",
              "<defs>\n",
              "</defs>\n",
              "<g id=\"flatprot-root\">\n",
              "<g id=\"AF-P69905-F1-model_v4_A\" transform=\"\">\n",
              "<path d=\"M 203.74327087402344,148.77725219726562 L 179.73715209960938,178.4394989013672\" stroke=\"#5b5859\" stroke-width=\"1.0\" fill=\"none\" stroke-linecap=\"round\" stroke-linejoin=\"round\" opacity=\"1.0\" class=\"element coil\" id=\"CoilSceneElement-A-139-142\" />\n",
              "<path d=\"M 284.2149429321289,133.05353540182114 L 286.192834854126,138.6144008487463 L 279.33522605895996,142.4625491052866 L 284.2582950592041,148.594305023551 L 277.40065574645996,152.44245328009129 L 282.3237552642822,158.57422445714474 L 275.4661159515381,162.42237271368504 L 280.3891849517822,168.5541438907385 L 273.5315761566162,172.40229214727879 L 278.45464515686035,178.53406332433224 L 271.5970058441162,182.38219632208347 L 276.5201053619385,188.51396749913692 L 269.66246604919434,192.36211575567722 L 274.5855350494385,198.4938716739416 L 267.72792625427246,202.3420199304819 L 272.6509952545166,208.47379110753536 L 265.7933864593506,212.32193936407566 L 270.7164554595947,218.4537105411291 L 263.8588161468506,222.3018587976694 L 268.78191566467285,228.43362997472286 L 261.9242763519287,232.2817629724741 L 266.84734535217285,238.4135494083166 L 259.98973655700684,242.26168240606785 L 264.912805557251,248.39343832433224 L 258.05516624450684,252.2416018396616 L 262.9782657623291,258.373357757926 L 259.06580352783203,262.7924117445946 L 266.9196090698242,264.3148270249367 L 270.8320713043213,259.8957730382681 L 265.908971786499,253.7640171200037 L 272.76661109924316,249.91585360467434 L 267.843542098999,243.78409768640995 L 274.70115089416504,239.93596468865871 L 269.7780818939209,233.8041782528162 L 276.63572120666504,229.95604525506496 L 271.7126216888428,223.8242740780115 L 278.5702610015869,219.97612582147121 L 273.6471920013428,213.84435464441776 L 280.5048007965088,209.99620638787746 L 275.58173179626465,203.864435210824 L 282.43934059143066,200.01628695428371 L 277.5162715911865,193.88453103601933 L 284.37391090393066,190.03638277947903 L 279.4508113861084,183.90461160242558 L 286.30845069885254,180.05647860467434 L 281.3853816986084,173.9247074276209 L 288.2429904937744,170.0765591710806 L 283.3199214935303,163.94478799402714 L 290.1775608062744,160.09663973748684 L 285.25446128845215,153.9648685604334 L 292.1121006011963,150.1167203038931 L 287.18903160095215,143.9849643856287 L 294.04664039611816,140.1368161290884 L 292.0687484741211,134.57595068216324 Z\" stroke-width=\"1\" stroke-opacity=\"1.0\" stroke-linecap=\"round\" stroke-linejoin=\"round\" class=\"element helix\" id=\"HelixSceneElement-A-82-92\" fill=\"#f00\" opacity=\"1.0\" stroke=\"#000\" />\n",
              "<path d=\"M 229.0218048095703,256.7978210449219 L 175.61532592773438,225.78189086914062\" stroke=\"#5b5859\" stroke-width=\"1.0\" fill=\"none\" stroke-linecap=\"round\" stroke-linejoin=\"round\" opacity=\"1.0\" class=\"element coil\" id=\"CoilSceneElement-A-93-96\" />\n",
              "<path d=\"M 264.22337794303894,99.26940989494324 L 270.13216894865036,97.75485438108444 L 273.6989558339119,104.93022853136063 L 280.388425052166,100.5190297961235 L 283.9552119374275,107.69440394639969 L 290.6446811556816,103.28320521116257 L 294.211437523365,110.45857936143875 L 300.90093725919724,106.04738062620163 L 305.2483718395233,110.32611155509949 L 307.33018040657043,102.60172963142395 L 302.98274582624435,98.32299870252609 L 296.29324609041214,102.73419743776321 L 292.72648972272873,95.55882328748703 L 286.03702050447464,99.97002202272415 L 282.4702336192131,92.79464787244797 L 275.780764400959,97.20584660768509 L 272.2139775156975,90.0304724574089 L 266.30518651008606,91.5450279712677 Z\" stroke-width=\"1\" stroke-opacity=\"1.0\" stroke-linecap=\"round\" stroke-linejoin=\"round\" class=\"element helix\" id=\"HelixSceneElement-A-77-80\" fill=\"#f00\" opacity=\"1.0\" stroke=\"#000\" />\n",
              "<path d=\"M 192.35658621788025,353.5419657230377 L 195.45465177297592,348.24575144052505 L 203.10751968622208,350.7118372321129 L 204.68730252981186,342.8281794190407 L 212.340170443058,345.2942652106285 L 213.91996854543686,337.4106073975563 L 221.572836458683,339.87672370672226 L 223.15263456106186,331.99303537607193 L 230.805502474308,334.4591516852379 L 232.38530057668686,326.57546335458755 L 240.038168489933,329.0415796637535 L 241.6179513335228,321.1578913331032 L 247.75255179405212,321.0365641117096 L 243.70383858680725,314.13671469688416 L 237.56923812627792,314.25804191827774 L 235.98945528268814,322.14173024892807 L 228.336587369442,319.6756139397621 L 226.75678926706314,327.55930227041245 L 219.103921353817,325.0931859612465 L 217.52412325143814,332.9768742918968 L 209.871255338192,330.51075798273087 L 208.29145723581314,338.39441579580307 L 200.638589322567,335.92833000421524 L 199.0588064789772,343.81198781728745 L 191.40593856573105,341.3459020256996 L 188.30787301063538,346.6421163082123 Z\" stroke-width=\"1\" stroke-opacity=\"1.0\" stroke-linecap=\"round\" stroke-linejoin=\"round\" class=\"element helix\" id=\"HelixSceneElement-A-38-43\" fill=\"#f00\" opacity=\"1.0\" stroke=\"#000\" />\n",
              "<path d=\"M 297.9189758300781,77.0705795288086 L 273.5685119628906,60.982635498046875\" stroke=\"#5b5859\" stroke-width=\"1.0\" fill=\"none\" stroke-linecap=\"round\" stroke-linejoin=\"round\" opacity=\"1.0\" class=\"element coil\" id=\"CoilSceneElement-A-73-76\" />\n",
              "<path d=\"M 273.05133056640625,333.2408142089844 L 337.41455078125,349.2767333984375\" stroke=\"#5b5859\" stroke-width=\"1.0\" fill=\"none\" stroke-linecap=\"round\" stroke-linejoin=\"round\" opacity=\"1.0\" class=\"element coil\" id=\"CoilSceneElement-A-44-53\" />\n",
              "<path d=\"M 168.11395168304443,60.10224408656359 L 171.26844382286072,65.09864776022732 L 165.42715668678284,70.37067958526313 L 171.58024191856384,75.27520720846951 L 165.7389395236969,80.54723903350532 L 171.8920247554779,85.45177428610623 L 166.05073761940002,90.72379848174751 L 172.20382285118103,95.62832610495389 L 166.36253571510315,100.9003579299897 L 172.51562094688416,105.80488555319607 L 166.67433381080627,111.07691737823188 L 172.82741904258728,115.98145263083279 L 166.98611664772034,121.25347682647407 L 173.13920187950134,126.15800444968045 L 167.29791474342346,131.43003627471626 L 173.45099997520447,136.33456389792264 L 167.6097128391266,141.60659572295845 L 173.7627980709076,146.51112334616482 L 167.9215109348297,151.78315517120063 L 174.07458090782166,156.68769805319607 L 168.23329377174377,161.95971461944282 L 174.38637900352478,166.86425750143826 L 168.5450918674469,172.136274067685 L 174.6981770992279,177.04081694968045 L 168.85688996315002,182.3128335159272 L 175.00997519493103,187.21736113913357 L 169.16868805885315,192.48939296416938 L 175.3217580318451,197.39393584616482 L 169.4804708957672,202.66595241241157 L 175.63355612754822,207.570495294407 L 169.79226899147034,212.84251186065376 L 175.94535422325134,217.7470547426492 L 170.10406708717346,223.01907130889595 L 176.25715231895447,227.92361419089139 L 170.41584992408752,233.19563075713813 L 176.56893515586853,238.10017363913357 L 170.72764801979065,243.37219020538032 L 176.88073325157166,248.27673308737576 L 171.03944611549377,253.54876491241157 L 177.19253134727478,258.45329253561795 L 171.3512442111969,263.72532436065376 L 177.50431418418884,268.6298367250711 L 171.66302704811096,273.9018685501069 L 177.81611227989197,278.8064114321023 L 171.9748251438141,284.07844325713813 L 178.1279103755951,288.98295562155545 L 172.2866232395172,294.25498744659126 L 178.43970847129822,299.1595303285867 L 172.59842133522034,304.4315316360444 L 178.75149130821228,309.3360745180398 L 172.9102041721344,314.60810634307563 L 179.0632894039154,319.51261870749295 L 176.22059535980225,324.69277829676867 L 184.2168436050415,324.4477856680751 L 187.05953764915466,319.26762607879937 L 180.90645241737366,314.36311371438205 L 186.74773955345154,309.09108188934624 L 180.5946695804596,304.1865390073508 L 186.43595671653748,298.9145376998931 L 180.28287148475647,294.0099948178977 L 186.12415862083435,288.73796299286187 L 179.97107338905334,283.83345062844455 L 185.81236052513123,278.56141880340874 L 179.65927529335022,273.6568759214133 L 185.5005624294281,268.3848440963775 L 179.34749245643616,263.4803317319602 L 185.18877959251404,258.20829990692437 L 179.03569436073303,253.303772283718 L 184.8769814968109,248.03174045868218 L 178.7238962650299,243.12719757668674 L 184.5651834011078,237.85518101044 L 178.41209816932678,232.95063812844455 L 184.25340056419373,227.6786215621978 L 178.10031533241272,222.77407868020236 L 183.9416024684906,217.50206211395562 L 177.7885172367096,212.59751923196018 L 183.62980437278748,207.32550266571343 L 177.47671914100647,202.420959783718 L 183.31800627708435,197.14894321747124 L 177.1649363040924,192.2444003354758 L 183.0062234401703,186.97236851044 L 176.85313820838928,182.06784088723361 L 182.69442534446716,176.79582432098687 L 176.54134011268616,171.89128143899143 L 182.38262724876404,166.61926487274468 L 176.22954201698303,161.71472199074924 L 182.0708291530609,156.4427054245025 L 175.91775918006897,151.53816254250705 L 181.75904631614685,146.26613071747124 L 175.60596108436584,141.36160309426486 L 181.44724822044373,136.08957126922905 L 175.29416298866272,131.18504364602268 L 181.1354501247406,125.91301182098687 L 174.9823648929596,121.00848419778049 L 180.82366728782654,115.73646000213921 L 174.67058205604553,110.8319247495383 L 180.5118691921234,105.55989292450249 L 174.3587839603424,100.65536530129611 L 180.2000710964203,95.3833334762603 L 174.04698586463928,90.47880585305393 L 179.88827300071716,85.20678165741265 L 173.73518776893616,80.30224640481174 L 179.5764901638031,75.03021457977593 L 173.4234049320221,70.12568695656955 L 179.26469206809998,64.85365513153374 L 176.1101999282837,59.85725145787001 Z\" stroke-width=\"1\" stroke-opacity=\"1.0\" stroke-linecap=\"round\" stroke-linejoin=\"round\" class=\"element helix\" id=\"HelixSceneElement-A-2-36\" fill=\"#f00\" opacity=\"1.0\" stroke=\"#000\" />\n",
              "<path d=\"M 147.91871452331543,135.13156723976135 L 153.79476499557495,136.2330031991005 L 153.79763841629028,144.15392583608627 L 161.6314196586609,142.98219448328018 L 161.63429307937622,150.90313237905502 L 169.46807432174683,149.73138576745987 L 169.4709324836731,157.6523236632347 L 177.30472898483276,156.48059231042862 L 177.30758714675903,164.40153020620346 L 185.1413836479187,163.2297835946083 L 185.14424180984497,171.15072149038315 L 192.97803831100464,169.97899013757706 L 192.9808964729309,177.89991277456284 L 200.81469297409058,176.72818142175674 L 202.77528190612793,182.37595200538635 L 207.99589729309082,176.3141725063324 L 206.03530836105347,170.6664019227028 L 198.2015118598938,171.83813327550888 L 198.19865369796753,163.9172106385231 L 190.36485719680786,165.0889419913292 L 190.3619990348816,157.16800409555435 L 182.52820253372192,158.3397507071495 L 182.52534437179565,150.41881281137466 L 174.691547870636,151.59054416418076 L 174.68868970870972,143.66960626840591 L 166.8549084663391,144.84135288000107 L 166.85203504562378,136.92041498422623 L 159.01825380325317,138.09214633703232 L 159.01538038253784,130.17122370004654 L 153.13932991027832,129.0697877407074 Z\" stroke-width=\"1\" stroke-opacity=\"1.0\" stroke-linecap=\"round\" stroke-linejoin=\"round\" class=\"element helix\" id=\"HelixSceneElement-A-120-138\" fill=\"#f00\" opacity=\"1.0\" stroke=\"#000\" />\n",
              "<path d=\"M 367.9405505657196,327.89226895570755 L 363.94361847639084,323.4752416163683 L 368.7531870007515,317.2019964903593 L 361.8207547068596,313.4037084132433 L 366.63032323122025,307.13049380481243 L 359.69792145490646,303.3322057276964 L 364.5074899792671,297.05896060168743 L 357.5750576853752,293.2606725245714 L 362.38462620973587,286.98742739856243 L 355.45219391584396,283.1891393214464 L 360.2617624402046,276.91589419543743 L 353.3293301463127,273.1176061183214 L 358.13889867067337,266.84436099231243 L 351.20646637678146,263.0460729151964 L 356.0160349011421,256.77285830676556 L 349.08363312482834,252.97457022964954 L 353.893201649189,246.70132510364056 L 346.9607693552971,242.90303702652454 L 351.77033787965775,236.62979190051556 L 344.83790558576584,232.83150382339954 L 349.6474741101265,226.55827395617962 L 342.7150418162346,222.7599858790636 L 347.52461034059525,216.48674075305462 L 340.59217804670334,212.68846793472767 L 345.401746571064,206.41522280871868 L 338.4693447947502,202.61693473160267 L 343.27891331911087,196.34368960559368 L 336.34648102521896,192.54541678726673 L 341.1560495495796,186.27217166125774 L 334.2236172556877,182.47386832535267 L 339.03318578004837,176.20063845813274 L 332.10075348615646,172.40235038101673 L 336.9103220105171,166.1291205137968 L 329.9778897166252,162.3308324366808 L 334.787488758564,156.0575873106718 L 327.8550564646721,152.25931449234486 L 332.66462498903275,145.9860541075468 L 325.73219269514084,142.18778128921986 L 330.5417612195015,135.91453616321087 L 323.6093289256096,132.11624808609486 L 328.41889744997025,125.84301821887493 L 321.48646515607834,122.04473014175892 L 326.296033680439,115.77148501574993 L 319.3636013865471,111.97319693863392 L 324.17316991090775,105.69995181262493 L 317.24076813459396,101.90167899429798 L 322.0503366589546,95.628433868289 L 315.1179043650627,91.83014579117298 L 316.99197268486023,86.1756551861763 L 309.1639721393585,87.82562655210495 L 307.289903819561,93.48011715710163 L 314.2223361134529,97.27840523421764 L 309.41276758909225,103.55165036022663 L 316.34516936540604,107.34992317855358 L 311.5356008410454,113.62316830456257 L 318.4680331349373,117.42145638167858 L 313.65846461057663,123.69470150768757 L 320.59089690446854,127.49298958480358 L 315.7813283801079,133.7662194520235 L 322.7137606739998,137.56450752913952 L 317.90419214963913,143.8377526551485 L 324.83662444353104,147.63602547347546 L 320.0270559191704,153.9092858582735 L 326.9594882130623,157.70755867660046 L 322.1498891711235,163.98080380260944 L 329.0823214650154,167.77909187972546 L 324.27275294065475,174.05232174694538 L 331.20518523454666,177.8506098240614 L 326.395616710186,184.12383969128132 L 333.3280490040779,187.9221430271864 L 328.51848047971725,194.19538815319538 L 335.45091277360916,197.99366097152233 L 330.6413442492485,204.26690609753132 L 337.5737460255623,208.06519417464733 L 332.76417750120163,214.33843930065632 L 339.69660979509354,218.13671211898327 L 334.8870412707329,224.40995724499226 L 341.8194735646248,228.20824532210827 L 337.00990504026413,234.4814751893282 L 343.94233733415604,238.2797632664442 L 339.1327688097954,244.5530083924532 L 346.0652011036873,248.3512964695692 L 341.25563257932663,254.6245415955782 L 348.1880343556404,258.4228296726942 L 343.37846583127975,264.69604428112507 L 350.31089812517166,268.4943323582411 L 345.501329600811,274.76757748425007 L 352.4337618947029,278.5658655613661 L 347.62419337034225,284.83911068737507 L 354.55662566423416,288.6373987644911 L 349.7470571398735,294.91064389050007 L 356.6794894337654,298.7089319676161 L 351.86992090940475,304.98217709362507 L 358.80232268571854,308.7804651707411 L 353.9927541613579,315.05367977917194 L 360.9251864552498,318.85196785628796 L 356.11561793088913,325.12521298229694 L 360.1125500202179,329.5422403216362 Z\" stroke-width=\"1\" stroke-opacity=\"1.0\" stroke-linecap=\"round\" stroke-linejoin=\"round\" class=\"element helix\" id=\"HelixSceneElement-A-54-72\" fill=\"#f00\" opacity=\"1.0\" stroke=\"#000\" />\n",
              "<path d=\"M 157.4712854027748,246.34221768379211 L 161.9183584600687,242.10219413042068 L 168.60505340993404,246.57905215024948 L 172.30558075010777,239.43338614702225 L 178.9922756999731,243.91024416685104 L 182.69280304014683,236.76459342241287 L 189.37951324880123,241.2414361834526 L 193.0800253301859,234.09578543901443 L 199.7667355388403,238.57264345884323 L 203.46726287901402,231.42699271440506 L 210.15395782887936,235.90385073423386 L 213.85448516905308,228.75818473100662 L 220.54119537770748,233.23504275083542 L 224.24170745909214,226.08939200639725 L 230.92841766774654,230.56623476743698 L 234.62894500792027,223.4205840229988 L 241.3156399577856,227.8974420428276 L 245.01615203917027,220.75179129838943 L 251.70286224782467,225.22864931821823 L 255.4033895879984,218.082983314991 L 261.34353882074356,219.65421414375305 L 259.35275024175644,211.90587496757507 L 253.41260100901127,210.33464413881302 L 249.71207366883755,217.48031014204025 L 243.02536346018314,213.00345212221146 L 239.32485137879848,220.14910286664963 L 232.63815642893314,215.67224484682083 L 228.93762908875942,222.817895591259 L 222.25091888010502,218.34105283021927 L 218.55040679872036,225.48670357465744 L 211.86369659006596,221.00984555482864 L 208.16316924989223,228.15551155805588 L 201.4764743000269,223.67865353822708 L 197.77594695985317,230.82430428266525 L 191.08923675119877,226.34744626283646 L 187.3887246698141,233.49309700727463 L 180.7020144611597,229.0162542462349 L 177.00148712098598,236.16190499067307 L 170.31479217112064,231.68504697084427 L 166.61426483094692,238.8307129740715 L 159.92756988108158,234.3538549542427 L 155.4804968237877,238.59387850761414 Z\" stroke-width=\"1\" stroke-opacity=\"1.0\" stroke-linecap=\"round\" stroke-linejoin=\"round\" class=\"element helix\" id=\"HelixSceneElement-A-97-113\" fill=\"#f00\" opacity=\"1.0\" stroke=\"#000\" />\n",
              "<path d=\"M 249.01963806152344,182.70953369140625 L 180.6049346923828,134.8149871826172\" stroke=\"#5b5859\" stroke-width=\"1.0\" fill=\"none\" stroke-linecap=\"round\" stroke-linejoin=\"round\" opacity=\"1.0\" class=\"element coil\" id=\"CoilSceneElement-A-114-119\" />\n",
              "<path d=\"M262.9927062988281,263.5536193847656 L229.0218,256.79782\" stroke=\"#5b5859\" stroke-width=\"1.0\" stroke-opacity=\"1.0\" stroke-linecap=\"round\" class=\"connection\" />\n",
              "<path d=\"M289.27353,136.94601 L288.141845703125,133.8147430419922\" stroke=\"#5b5859\" stroke-width=\"1.0\" stroke-opacity=\"1.0\" stroke-linecap=\"round\" class=\"connection\" />\n",
              "<path d=\"M306.2892761230469,106.46392059326172 L289.27353,136.94601\" stroke=\"#5b5859\" stroke-width=\"1.0\" stroke-opacity=\"1.0\" stroke-linecap=\"round\" class=\"connection\" />\n",
              "<path d=\"M175.61533,225.78189 L156.47589111328125,242.46804809570312\" stroke=\"#5b5859\" stroke-width=\"1.0\" stroke-opacity=\"1.0\" stroke-linecap=\"round\" class=\"connection\" />\n",
              "<path d=\"M273.5685,60.982635 L265.2642822265625,95.40721893310547\" stroke=\"#5b5859\" stroke-width=\"1.0\" stroke-opacity=\"1.0\" stroke-linecap=\"round\" class=\"connection\" />\n",
              "<path d=\"M205.38558959960938,179.34506225585938 L203.74327,148.77725\" stroke=\"#5b5859\" stroke-width=\"1.0\" stroke-opacity=\"1.0\" stroke-linecap=\"round\" class=\"connection\" />\n",
              "<path d=\"M245.7281951904297,317.5866394042969 L273.05133,333.2408\" stroke=\"#5b5859\" stroke-width=\"1.0\" stroke-opacity=\"1.0\" stroke-linecap=\"round\" class=\"connection\" />\n",
              "<path d=\"M149.6317,86.286095 L172.11207580566406,59.9797477722168\" stroke=\"#5b5859\" stroke-width=\"1.0\" stroke-opacity=\"1.0\" stroke-linecap=\"round\" class=\"connection\" />\n",
              "<path d=\"M176.70854,320.89517 L190.3322296142578,350.092041015625\" stroke=\"#5b5859\" stroke-width=\"1.0\" stroke-opacity=\"1.0\" stroke-linecap=\"round\" class=\"connection\" />\n",
              "<path d=\"M337.41455,349.27673 L364.02655029296875,328.7172546386719\" stroke=\"#5b5859\" stroke-width=\"1.0\" stroke-opacity=\"1.0\" stroke-linecap=\"round\" class=\"connection\" />\n",
              "<path d=\"M313.0779724121094,87.00064086914062 L297.91898,77.07058\" stroke=\"#5b5859\" stroke-width=\"1.0\" stroke-opacity=\"1.0\" stroke-linecap=\"round\" class=\"connection\" />\n",
              "<path d=\"M180.21871948242188,324.5702819824219 L176.70854,320.89517\" stroke=\"#5b5859\" stroke-width=\"1.0\" stroke-opacity=\"1.0\" stroke-linecap=\"round\" class=\"connection\" />\n",
              "<path d=\"M260.34814453125,215.78004455566406 L249.01964,182.70953\" stroke=\"#5b5859\" stroke-width=\"1.0\" stroke-opacity=\"1.0\" stroke-linecap=\"round\" class=\"connection\" />\n",
              "<path d=\"M180.60493,134.81499 L150.52902221679688,132.10067749023438\" stroke=\"#5b5859\" stroke-width=\"1.0\" stroke-opacity=\"1.0\" stroke-linecap=\"round\" class=\"connection\" />\n",
              "</g>\n",
              "</g>\n",
              "</svg>\n",
              "                \n",
              "            <div style=\"margin-top: 15px; text-align: left; background-color: #f8f9fa; padding: 12px; border-radius: 8px;\">\n",
              "                <div style=\"font-weight: bold; color: #2c3e50; margin-bottom: 5px;\">Protein Information:</div>\n",
              "                <div style=\"font-size: 0.9em; color: #7f8c8d;\">\n",
              "                    <span style=\"font-weight: bold;\">UniProt ID:</span> P69905\n",
              "                </div>\n",
              "                <div style=\"font-size: 0.9em; color: #7f8c8d; margin-top: 3px;\">\n",
              "                    <span style=\"font-weight: bold;\">Source:</span> AlphaFold Database\n",
              "                </div>\n",
              "                <div style=\"font-size: 0.9em; color: #7f8c8d; margin-top: 3px;\">\n",
              "                    <span style=\"font-weight: bold;\">Secondary Structure:</span> Included (from DSSP)\n",
              "                </div>\n",
              "            </div>\n",
              "            \n",
              "                <div style=\"margin-top: 10px; font-size: 0.8em; color: #95a5a6; text-align: right;\">\n",
              "                    Generated with FlatProt\n",
              "                </div>\n",
              "            </div>\n",
              "            </div>"
            ]
          },
          "metadata": {}
        },
        {
          "output_type": "display_data",
          "data": {
            "text/plain": [
              "<IPython.core.display.HTML object>"
            ],
            "text/html": [
              "\n",
              "<div style=\"margin-top: 30px; padding: 15px; background-color: #e8f5e9; border-radius: 10px; text-align: center; border: 1px solid #81c784;\">\n",
              "    <h2 style=\"color: #2e7d32; margin-top: 0;\">✅ Analysis Complete</h2>\n",
              "    <p style=\"color: #2c3e50;\">Your protein structure has been successfully processed and visualized.</p>\n",
              "</div>\n"
            ]
          },
          "metadata": {}
        }
      ],
      "source": [
        "# @title 🖼️ Display Results {display-mode: \"form\"}\n",
        "# @hidden\n",
        "display_header(\"Displaying Generated SVG\", 4, \"#3498db\")\n",
        "\n",
        "\n",
        "def display_svg_files(\n",
        "    svg_files: List[str | Path],\n",
        "    titles: Optional[List[str]] = None,\n",
        "    width: str = \"90%\",  # Default to wider for single image\n",
        ") -> None:\n",
        "    \"\"\"\n",
        "    Display one or more SVG files side by side in a Jupyter environment.\n",
        "\n",
        "    Args:\n",
        "        svg_files: A list of paths (as strings or Path objects) to the SVG files.\n",
        "        titles: An optional list of titles for each SVG. If None or mismatched,\n",
        "                generic titles or filenames will be used.\n",
        "        width: The CSS width property for each SVG container (e.g., '30%', '400px').\n",
        "               Adjust based on the number of SVGs.\n",
        "    \"\"\"\n",
        "    if not svg_files:\n",
        "        status_message(\"No SVG files provided to display.\", \"warning\")\n",
        "        return\n",
        "\n",
        "    num_files = len(svg_files)\n",
        "    if titles is None or len(titles) != num_files:\n",
        "        status_message(\"Using filenames as titles for SVG display.\", \"info\")\n",
        "        titles = [Path(f).name for f in svg_files]\n",
        "\n",
        "    # Enhanced HTML structure with better styling\n",
        "    html = '<div style=\"display: flex; justify-content: space-around; align-items: flex-start; flex-wrap: wrap; width: 100%;\">'\n",
        "\n",
        "    for i, (svg_file_path, title) in enumerate(zip(svg_files, titles)):\n",
        "        svg_path = Path(svg_file_path)\n",
        "        container_style = (\n",
        "            f\"width: {width}; max-width: 800px; border: 1px solid #ddd; text-align: center; padding: 20px; \"\n",
        "            f\"margin: 15px auto; border-radius: 12px; background-color: white; \"\n",
        "            f\"box-shadow: 0 4px 8px rgba(0,0,0,0.1); transition: all 0.3s ease;\"\n",
        "        )\n",
        "\n",
        "        if not svg_path.exists():\n",
        "            status_message(\n",
        "                f\"SVG file not found: {svg_path}. Skipping display.\", \"warning\"\n",
        "            )\n",
        "            html += f\"\"\"\n",
        "            <div style=\"{container_style}\">\n",
        "                <h3 style=\"margin-bottom: 10px; font-family: sans-serif; color: #2c3e50;\">{title}</h3>\n",
        "                <div style=\"color: #e74c3c; padding: 20px; background-color: #ffebee; border-radius: 8px;\">\n",
        "                    <i>File not found</i>\n",
        "                </div>\n",
        "            </div>\n",
        "            \"\"\"\n",
        "            continue\n",
        "\n",
        "        try:\n",
        "            with open(svg_path, \"r\", encoding=\"utf-8\") as f:\n",
        "                svg_content = f.read()\n",
        "\n",
        "            # Ensure SVG is responsive within its container\n",
        "            svg_content = svg_content.replace(\n",
        "                \"<svg \",\n",
        "                '<svg style=\"width: 100%; height: auto; display: block; margin: auto; transition: all 0.3s ease;\" ',\n",
        "                1,  # Replace only the first occurrence\n",
        "            )\n",
        "\n",
        "            # Add protein info\n",
        "            protein_info = f\"\"\"\n",
        "            <div style=\"margin-top: 15px; text-align: left; background-color: #f8f9fa; padding: 12px; border-radius: 8px;\">\n",
        "                <div style=\"font-weight: bold; color: #2c3e50; margin-bottom: 5px;\">Protein Information:</div>\n",
        "                <div style=\"font-size: 0.9em; color: #7f8c8d;\">\n",
        "                    <span style=\"font-weight: bold;\">UniProt ID:</span> {UNIPROT_ID}\n",
        "                </div>\n",
        "                <div style=\"font-size: 0.9em; color: #7f8c8d; margin-top: 3px;\">\n",
        "                    <span style=\"font-weight: bold;\">Source:</span> AlphaFold Database\n",
        "                </div>\n",
        "                <div style=\"font-size: 0.9em; color: #7f8c8d; margin-top: 3px;\">\n",
        "                    <span style=\"font-weight: bold;\">Secondary Structure:</span> {\n",
        "                \"Included (from DSSP)\" if dssp_output_path else \"Not included\"\n",
        "            }\n",
        "                </div>\n",
        "            </div>\n",
        "            \"\"\"\n",
        "\n",
        "            html += f\"\"\"\n",
        "            <div style=\"{container_style}\">\n",
        "                <h3 style=\"margin-bottom: 15px; font-family: sans-serif; color: #2c3e50; word-wrap: break-word;\">{title}</h3>\n",
        "                {svg_content}\n",
        "                {protein_info}\n",
        "                <div style=\"margin-top: 10px; font-size: 0.8em; color: #95a5a6; text-align: right;\">\n",
        "                    Generated with FlatProt\n",
        "                </div>\n",
        "            </div>\n",
        "            \"\"\"\n",
        "        except Exception as e:\n",
        "            status_message(f\"Failed to read or process SVG {svg_path}: {e}\", \"error\")\n",
        "            html += f\"\"\"\n",
        "             <div style=\"{container_style}\">\n",
        "                 <h3 style=\"margin-bottom: 10px; font-family: sans-serif; color: #2c3e50;\">{title}</h3>\n",
        "                 <div style=\"color: #e74c3c; padding: 20px; background-color: #ffebee; border-radius: 8px;\">\n",
        "                    <i>Error loading SVG: {e}</i>\n",
        "                 </div>\n",
        "             </div>\n",
        "             \"\"\"\n",
        "\n",
        "    html += \"</div>\"\n",
        "    # Ensure display is imported and works\n",
        "    try:\n",
        "        display(HTML(html))\n",
        "    except NameError:\n",
        "        status_message(\n",
        "            \"Cannot display HTML. 'display' function not available.\", \"error\"\n",
        "        )\n",
        "        print(\"--- HTML Content ---\")\n",
        "        print(html)  # Print raw HTML as fallback\n",
        "\n",
        "\n",
        "# Display the single generated SVG\n",
        "if svg_output_path.exists():\n",
        "    status_message(\"Displaying final projection...\", \"success\")\n",
        "    display_svg_files(\n",
        "        svg_files=[svg_output_path],\n",
        "        titles=[f\"FlatProt Projection: {UNIPROT_ID}\"],\n",
        "        width=\"95%\",  # Make single SVG display wide\n",
        "    )\n",
        "else:\n",
        "    status_message(f\"Final SVG file not found at {svg_output_path}\", \"error\")\n",
        "\n",
        "\n",
        "# Add a completion banner\n",
        "completion_html = \"\"\"\n",
        "<div style=\"margin-top: 30px; padding: 15px; background-color: #e8f5e9; border-radius: 10px; text-align: center; border: 1px solid #81c784;\">\n",
        "    <h2 style=\"color: #2e7d32; margin-top: 0;\">✅ Analysis Complete</h2>\n",
        "    <p style=\"color: #2c3e50;\">Your protein structure has been successfully processed and visualized.</p>\n",
        "</div>\n",
        "\"\"\"\n",
        "display(HTML(completion_html))"
      ]
    },
    {
      "cell_type": "markdown",
      "id": "22d55814",
      "metadata": {
        "id": "22d55814"
      },
      "source": [
        "<div style=\"text-align: center; padding: 20px; margin-top: 40px; border-top: 1px solid #ddd;\">\n",
        "<p style=\"color: #7f8c8d; font-size: 0.9em;\">\n",
        "  FlatProt - Developed by the <a href=\"https://github.com/rostlab/FlatProt\" style=\"color: #3498db; text-decoration: none;\">Rostlab</a>\n",
        "</p>\n",
        "</div>"
      ]
    }
  ],
  "metadata": {
    "jupytext": {
      "cell_metadata_filter": "-all",
      "main_language": "python",
      "notebook_metadata_filter": "-all"
    },
    "colab": {
      "provenance": [],
      "include_colab_link": true
    },
    "language_info": {
      "name": "python"
    },
    "kernelspec": {
      "name": "python3",
      "display_name": "Python 3"
    }
  },
  "nbformat": 4,
  "nbformat_minor": 5
}