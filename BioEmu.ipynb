{
  "nbformat": 4,
  "nbformat_minor": 0,
  "metadata": {
    "colab": {
      "provenance": [],
      "machine_shape": "hm",
      "gpuType": "T4",
      "include_colab_link": true
    },
    "kernelspec": {
      "name": "python3",
      "display_name": "Python 3"
    },
    "language_info": {
      "name": "python"
    },
    "accelerator": "GPU"
  },
  "cells": [
    {
      "cell_type": "markdown",
      "metadata": {
        "id": "view-in-github",
        "colab_type": "text"
      },
      "source": [
        "<a href=\"https://colab.research.google.com/github/adrian-jasinski-ardigen/bioemu_run/blob/develop/BioEmu.ipynb\" target=\"_parent\"><img src=\"https://colab.research.google.com/assets/colab-badge.svg\" alt=\"Open In Colab\"/></a>"
      ]
    },
    {
      "cell_type": "markdown",
      "source": [
        "# **Hello there!**\n",
        "\n",
        "This is a Jupyter notebook for running Biomolecular Emulator (BioEmu for short), a model that samples from the approximated equilibrium distribution of structures for a protein monomer, given its amino acid sequence.\n",
        "BioEmu outputs structures in backbone frame representation. To reconstruct the side-chains, several tools are available. As an example, we interface with HPacker (https://github.com/gvisani/hpacker) to conduct side-chain reconstruction.\n",
        "\n",
        "BioEmu is based on the paper:\n",
        "\n",
        "📄 Scalable emulation of protein equilibrium ensembles with generative deep learning\n",
        "\n",
        "👨‍🔬 Authors: Sarah Lewis & Frank Noé (corresponding), et al.\n",
        "\n",
        "📌 Read it here: https://www.biorxiv.org/content/10.1101/2024.12.05.626885v1.abstract\n",
        "\n",
        "The main goal of this notebook is to demonstrate how to harness the power of cloud-computing to emulate of protein equilibrium ensembles with generative deep learning model in a cheap and yet feasible fashion.\n",
        "\n",
        "---\n",
        "**Bugs**\n",
        "- If you encounter any bugs, please report the issue to https://github.com/pablo-arantes/making-it-rain/issues\n",
        "\n",
        "**Acknowledgments**\n",
        "- We would like to thank the [BioEmu](https://github.com/microsoft/bioemu) team for developing an excellent and open source model.\n",
        "\n",
        "- A Making-it-rain by **Pablo R. Arantes** ([@pablitoarantes](https://twitter.com/pablitoarantes)), **Marcelo D. Polêto** ([@mdpoleto](https://twitter.com/mdpoleto)), **Conrado Pedebos** ([@ConradoPedebos](https://twitter.com/ConradoPedebos)) and **Rodrigo Ligabue-Braun** ([@ligabue_braun](https://twitter.com/ligabue_braun)).\n",
        "\n",
        "\n",
        "- Also, credit to [David Koes](https://github.com/dkoes) for his awesome [py3Dmol](https://3dmol.csb.pitt.edu/) plugin.\n",
        "\n",
        "- For related notebooks see: [Making-it-rain](https://github.com/pablo-arantes/making-it-rain)"
      ],
      "metadata": {
        "id": "lvLjtJaDkmDv"
      }
    },
    {
      "cell_type": "markdown",
      "source": [
        "# Introduction\n",
        "\n",
        "In terms of inputs, we wil need:\n",
        "*  An amino acid sequence of your protein.\n",
        "\n",
        "In this notebook, we will emulate an equilibrium ensembles of a chignolin protein.\n",
        "\n",
        "\n",
        "\n",
        "\n",
        "\n"
      ],
      "metadata": {
        "id": "rugMMhC-lsmU"
      }
    },
    {
      "cell_type": "markdown",
      "source": [
        "## Using Google Drive to store simulation data\n",
        "\n",
        "Google Colab does not allow users to keep data on their computing nodes. However, we can use Google Drive to read, write, and store our simulations files. Therefore, we suggest to you to:\n",
        "\n",
        "1.   Create a folder in your own Google Drive.\n",
        "2.   Copy the path of your created directory. We will use it below."
      ],
      "metadata": {
        "id": "kpgws4nkmH6W"
      }
    },
    {
      "cell_type": "markdown",
      "source": [
        "---\n",
        "---\n",
        "## Setting the environment for our calculations\n",
        "\n",
        "Firstly, we need to install all necessary libraries and packages. The main packages we will be installing are:\n",
        "\n",
        "1.    Anaconda (https://docs.conda.io/en/latest/miniconda.html)\n",
        "2.    BioEmu (https://github.com/microsoft/bioemu)\n",
        "3.    PyTraj (https://amber-md.github.io/pytraj/latest/index.html)\n",
        "4.    py3Dmol (https://pypi.org/project/py3Dmol/)\n",
        "5.    Numpy (https://numpy.org/)\n",
        "6.    Matplotlib (https://matplotlib.org/)\n",
        "7.    AmberTools (https://ambermd.org/AmberTools.php)\n",
        "8.    LogMD (https://github.com/log-md/logmd)"
      ],
      "metadata": {
        "id": "FhVINh3bIajx"
      }
    },
    {
      "cell_type": "code",
      "source": [
        "#@title **Install Conda Colab**\n",
        "#@markdown It will restart the kernel (session), don't worry.\n",
        "!pip install -q condacolab\n",
        "import condacolab\n",
        "condacolab.install()"
      ],
      "metadata": {
        "colab": {
          "base_uri": "https://localhost:8080/"
        },
        "id": "zzLj5yzBgbaK",
        "outputId": "b542dc3e-3da1-4d26-bbc3-48e21f18f61b"
      },
      "execution_count": 34,
      "outputs": [
        {
          "output_type": "stream",
          "name": "stdout",
          "text": [
            "✨🍰✨ Everything looks OK!\n"
          ]
        }
      ]
    },
    {
      "cell_type": "code",
      "execution_count": 35,
      "metadata": {
        "id": "eKAcWCOHh2fJ"
      },
      "outputs": [],
      "source": [
        "#@title **Install dependencies**\n",
        "#@markdown It will take a few minutes, please, drink a coffee and wait. ;-)\n",
        "# install dependencies\n",
        "import sys\n",
        "import os\n",
        "import subprocess\n",
        "\n",
        "commands = [\n",
        "    'uv pip install --prerelease=allow git+https://github.com/pablo-arantes/bioemu_0.1.6',\n",
        "    \"pip install --upgrade MDAnalysis\",\n",
        "    \"pip -q install py3Dmol\",\n",
        "    \"mamba install -c conda-forge ambertools -y\",\n",
        "    \"pip -q install logmd==0.1.30\",\n",
        "\n",
        "]\n",
        "\n",
        "for cmd in commands:\n",
        "    subprocess.run(cmd, shell=True)"
      ]
    },
    {
      "cell_type": "code",
      "source": [
        "#@title ### **Import Google Drive**\n",
        "#@markdown Click in the \"Run\" buttom to make your Google Drive accessible.\n",
        "from google.colab import drive\n",
        "\n",
        "drive.mount('/content/drive', force_remount=True)"
      ],
      "metadata": {
        "id": "SMyFGjQvHEAx",
        "colab": {
          "base_uri": "https://localhost:8080/"
        },
        "outputId": "aa7b87bc-67b4-4a3e-ef75-d517a40a0012"
      },
      "execution_count": 36,
      "outputs": [
        {
          "output_type": "stream",
          "name": "stdout",
          "text": [
            "Mounted at /content/drive\n"
          ]
        }
      ]
    },
    {
      "cell_type": "code",
      "source": [
        "#@title **Check if you correctly allocated GPU nodes**\n",
        "\n",
        "gpu_info = !nvidia-smi\n",
        "gpu_info = '\\n'.join(gpu_info)\n",
        "if gpu_info.find('failed') >= 0:\n",
        "  print('Select the Runtime > \"Change runtime type\" menu to enable a GPU accelerator, ')\n",
        "  print('and then re-execute this cell.')\n",
        "else:\n",
        "  print(gpu_info)"
      ],
      "metadata": {
        "colab": {
          "base_uri": "https://localhost:8080/"
        },
        "id": "ONYdnuf9HHVu",
        "outputId": "a9211e84-7850-466e-c738-44f450e43f65"
      },
      "execution_count": 37,
      "outputs": [
        {
          "output_type": "stream",
          "name": "stdout",
          "text": [
            "Mon Apr 14 20:59:16 2025       \n",
            "+-----------------------------------------------------------------------------------------+\n",
            "| NVIDIA-SMI 550.54.15              Driver Version: 550.54.15      CUDA Version: 12.4     |\n",
            "|-----------------------------------------+------------------------+----------------------+\n",
            "| GPU  Name                 Persistence-M | Bus-Id          Disp.A | Volatile Uncorr. ECC |\n",
            "| Fan  Temp   Perf          Pwr:Usage/Cap |           Memory-Usage | GPU-Util  Compute M. |\n",
            "|                                         |                        |               MIG M. |\n",
            "|=========================================+========================+======================|\n",
            "|   0  Tesla T4                       Off |   00000000:00:04.0 Off |                    0 |\n",
            "| N/A   71C    P0             30W /   70W |    1172MiB /  15360MiB |      0%      Default |\n",
            "|                                         |                        |                  N/A |\n",
            "+-----------------------------------------+------------------------+----------------------+\n",
            "                                                                                         \n",
            "+-----------------------------------------------------------------------------------------+\n",
            "| Processes:                                                                              |\n",
            "|  GPU   GI   CI        PID   Type   Process name                              GPU Memory |\n",
            "|        ID   ID                                                               Usage      |\n",
            "|=========================================================================================|\n",
            "+-----------------------------------------------------------------------------------------+\n"
          ]
        }
      ]
    },
    {
      "cell_type": "code",
      "source": [
        "#@title **Please, provide the necessary inputs**:\n",
        "\n",
        "Google_Drive_Path = '/content/drive/MyDrive/BioEmu' #@param {type:\"string\"}\n",
        "workDir = Google_Drive_Path\n",
        "#@markdown - `sequence`: Monomer sequence to sample\n",
        "Sequence = 'TPLPPTSAHGNVAEGETKPDPDVTERCSDGWSFDATTLDDNGTMLFFKGEFVWKSHKWDRELISERWKNFPSPVDAAFRQGHNSVFLIKGDKVWVYPPEKKEKGYPKLLQDEFPGIPSPLDAAVECHRGECQAEGVLFFQGDREWFWDLATGTMKERSWPAVGNCSSALRWLGRYYCFQGNQFLRFDPVRGEVPPRYPRDVRDYFMPCPGRGHGHRNGTGHGNSTHHGPEYMRCSPHLVLSALTSDNHGATYAFSGTHYWRLDTSRDGWHSWPIAHQWPQGPSAVDAAFSWEEKLYLVQGTQVYVFLKGGYTLVSGYPKRLEKEVGTPHGIILDSVDAAFICPGSSRLHIMAGRRLWWLDLKSGAQATWTELPWPHEKVDGALCMEKSLGPNSCSANGPGLYLIHGPNLYCYSDVEKLNAAKALPQPQNVTSLLGCTH' #@param {type:\"string\"}\n",
        "#@markdown - `num_samples`: Number of samples requested\n",
        "number_of_samples = 5000 #@param {type:\"slider\", min:10, max:5000, step:10}\n",
        "#@markdown - `filter_samples`: Whether to filter unphysical samples (e.g., those containing chain breaks) from the written samples\n",
        "\n",
        "filter_samples = True #@param {type:\"boolean\"}\n",
        "#@markdown - `output`: Output folder name assigned to this job\n",
        "output = 'apohemopexin' #@param {type:\"string\"}\n",
        "\n",
        "import os\n",
        "from bioemu.sample import main as sample\n",
        "sample(sequence=Sequence, num_samples=int(number_of_samples), output_dir=os.path.join(workDir, output), filter_samples=filter_samples)"
      ],
      "metadata": {
        "id": "Wp_G2YInu2vC",
        "outputId": "4978d50e-d112-4c02-880c-a44cc30e02c0",
        "colab": {
          "base_uri": "https://localhost:8080/"
        }
      },
      "execution_count": null,
      "outputs": [
        {
          "output_type": "stream",
          "name": "stderr",
          "text": [
            "Sequence TPLPPTSAHGNVAEGETKPDPDVTERCSDGWSFDATTLDDNGTMLFFKGEFVWKSHKWDRELISERWKNFPSPVDAAFRQGHNSVFLIKGDKVWVYPPEKKEKGYPKLLQDEFPGIPSPLDAAVECHRGECQAEGVLFFQGDREWFWDLATGTMKERSWPAVGNCSSALRWLGRYYCFQGNQFLRFDPVRGEVPPRYPRDVRDYFMPCPGRGHGHRNGTGHGNSTHHGPEYMRCSPHLVLSALTSDNHGATYAFSGTHYWRLDTSRDGWHSWPIAHQWPQGPSAVDAAFSWEEKLYLVQGTQVYVFLKGGYTLVSGYPKRLEKEVGTPHGIILDSVDAAFICPGSSRLHIMAGRRLWWLDLKSGAQATWTELPWPHEKVDGALCMEKSLGPNSCSANGPGLYLIHGPNLYCYSDVEKLNAAKALPQPQNVTSLLGCTH may be too long. Attempting with batch_size = 1.\n"
          ]
        }
      ]
    },
    {
      "cell_type": "code",
      "source": [
        "#@title **Concatenate and align the ensemble trajectory**\n",
        "import warnings\n",
        "warnings.filterwarnings('ignore')\n",
        "import MDAnalysis as mda\n",
        "from MDAnalysis.analysis import align, rms\n",
        "import pytraj as pt\n",
        "\n",
        "workDir = Google_Drive_Path\n",
        "Skip = \"1\" #@param [\"1\", \"2\", \"5\", \"10\", \"20\", \"50\"]\n",
        "stride_traj = Skip\n",
        "Output_format = \"dcd\" #@param [\"dcd\", \"pdb\", \"trr\", \"xtc\"]\n",
        "\n",
        "\n",
        "workDir2 = os.path.join(workDir, output)\n",
        "pdb_ref=  os.path.join(workDir2, \"topology.pdb\")\n",
        "traj = os.path.join(workDir2, \"samples.xtc\")\n",
        "\n",
        "nw_dcd = os.path.join(workDir2, \"samples_fix.\" + str(Output_format))\n",
        "nw_pdb = os.path.join(workDir2, \"topology_fix.pdb\")\n",
        "\n",
        "\n",
        "\n",
        "u1 = mda.Universe(pdb_ref, traj)\n",
        "u2 = mda.Universe(pdb_ref, pdb_ref)\n",
        "\n",
        "u2.trajectory[0] # set u2 to first frame\n",
        "\n",
        "align.AlignTraj(u1, u2, select='name CA', in_memory=True).run()\n",
        "\n",
        "nw = u1.select_atoms(\"all\")\n",
        "with mda.Writer(nw_dcd, nw.n_atoms) as W:\n",
        "  for ts in u1.trajectory[::int(Skip)]:\n",
        "      W.write(nw, )\n",
        "not_waters = u2.select_atoms(\"all\")\n",
        "not_waters.write(nw_pdb)\n",
        "traj_dcd_check = os.path.exists(nw_dcd)\n",
        "traj = nw_dcd\n",
        "pdb_ref = nw_pdb\n",
        "\n",
        "\n",
        "traj_load = pt.load(traj, pdb_ref)\n",
        "print(traj_load)\n",
        "\n",
        "if traj_dcd_check == True:\n",
        "  print(\"Trajectory concatenated successfully! :-)\")\n",
        "else:\n",
        "  print(\"ERROR: Check your inputs! \")"
      ],
      "metadata": {
        "id": "U33XEKeehTkk"
      },
      "execution_count": null,
      "outputs": []
    },
    {
      "cell_type": "code",
      "source": [
        "#@title **Load, view and check the ensemble**\n",
        "#@markdown This will take a few minutes.\n",
        "import warnings\n",
        "warnings.filterwarnings('ignore')\n",
        "import py3Dmol\n",
        "import MDAnalysis as mda\n",
        "#py3dmol functions\n",
        "class Atom(dict):\n",
        "  def __init__(self, line):\n",
        "    self[\"type\"] = line[0:6].strip()\n",
        "    self[\"idx\"] = line[6:11].strip()\n",
        "    self[\"name\"] = line[12:16].strip()\n",
        "    self[\"resname\"] = line[17:20].strip()\n",
        "    self[\"resid\"] = int(int(line[22:26]))\n",
        "    self[\"x\"] = float(line[30:38])\n",
        "    self[\"y\"] = float(line[38:46])\n",
        "    self[\"z\"] = float(line[46:54])\n",
        "    self[\"sym\"] = line[76:78].strip()\n",
        "\n",
        "  def __str__(self):\n",
        "    line = list(\" \" * 80)\n",
        "    line[0:6] = self[\"type\"].ljust(6)\n",
        "    line[6:11] = self[\"idx\"].ljust(5)\n",
        "    line[12:16] = self[\"name\"].ljust(4)\n",
        "    line[17:20] = self[\"resname\"].ljust(3)\n",
        "    line[22:26] = str(self[\"resid\"]).ljust(4)\n",
        "    line[30:38] = str(self[\"x\"]).rjust(8)\n",
        "    line[38:46] = str(self[\"y\"]).rjust(8)\n",
        "    line[46:54] = str(self[\"z\"]).rjust(8)\n",
        "    line[76:78] = self[\"sym\"].rjust(2)\n",
        "    return \"\".join(line) + \"\\n\"\n",
        "\n",
        "class Molecule(list):\n",
        "  def __init__(self, file):\n",
        "    for line in file:\n",
        "      if \"ATOM\" in line or \"HETATM\" in line:\n",
        "        self.append(Atom(line))\n",
        "\n",
        "    def __str__(self):\n",
        "      outstr = \"\"\n",
        "      for at in self:\n",
        "        outstr += str(at)\n",
        "      return outstr\n",
        "\n",
        "\n",
        "stride_animation =  10 #@param {type:\"slider\", min:0, max:1000, step:10}\n",
        "\n",
        "workDir2 = os.path.join(workDir, output)\n",
        "pdb_ref=  os.path.join(workDir2, \"topology_fix.pdb\")\n",
        "traj = os.path.join(workDir2, \"samples_fix.\" + str(Output_format))\n",
        "\n",
        "u = mda.Universe(pdb_ref, traj)\n",
        "\n",
        "# Write out frames for animation\n",
        "protein = u.select_atoms('all')\n",
        "i = 0\n",
        "for ts in u.trajectory[0:len(u.trajectory):int(stride_animation)]:\n",
        "    if i > -1:\n",
        "        with mda.Writer('' + str(i) + '.pdb', protein.n_atoms) as W:\n",
        "            W.write(protein)\n",
        "    i = i + 1\n",
        "# Load frames as molecules\n",
        "molecules = []\n",
        "for i in range(int(len(u.trajectory)/int(stride_animation))):\n",
        "    with open('' + str(i) + '.pdb') as ifile:\n",
        "        molecules.append(Molecule(ifile))\n",
        "\n",
        "models = \"\"\n",
        "for i in range(len(molecules)):\n",
        "  models += \"MODEL \" + str(i) + \"\\n\"\n",
        "  for j,mol in enumerate(molecules[i]):\n",
        "    models += str(mol)\n",
        "  models += \"ENDMDL\\n\"\n",
        "#view.addModelsAsFrames(models)\n",
        "\n",
        "# Animation\n",
        "view = py3Dmol.view(width=800, height=600)\n",
        "view.addModelsAsFrames(models)\n",
        "for i, at in enumerate(molecules[0]):\n",
        "    default = {\"cartoon\": {'color': 'spectrum'}}\n",
        "    view.setStyle({'model': -1, 'serial': i+1}, at.get(\"pymol\", default))\n",
        "\n",
        "view.zoomTo()\n",
        "view.animate({'loop': \"forward\"})\n",
        "view.show()"
      ],
      "metadata": {
        "cellView": "form",
        "id": "b1twGd2EiOv2"
      },
      "execution_count": null,
      "outputs": []
    },
    {
      "cell_type": "code",
      "source": [
        "#@title ### **View the Trajectory with RMSD and Rg analyisis Using LogMD**\n",
        "#@markdown We will load the trajectory and analyze the Root Mean Square Deviation (RMSD) and Radius of Giration (Rg) using the powerful LogMD (https://github.com/log-md/logmd) library, which allows us to monitor the ensemble as it runs.\n",
        "\n",
        "#@markdown **Once this cell finishes running, a link will appear — click on it to open and explore the full trajectory.**\n",
        "import warnings\n",
        "warnings.filterwarnings('ignore')\n",
        "import MDAnalysis as mda\n",
        "from MDAnalysis.analysis import rms, align\n",
        "from logmd import LogMD\n",
        "from tqdm import tqdm\n",
        "import numpy as np\n",
        "import time\n",
        "\n",
        "# Initialize LogMD\n",
        "logmd = LogMD()\n",
        "\n",
        "# Load the trajectory\n",
        "workDir2 = os.path.join(workDir, output)\n",
        "pdb_ref=  os.path.join(workDir2, \"topology_fix.pdb\")\n",
        "traj = os.path.join(workDir2, \"samples_fix.\" + str(Output_format))\n",
        "\n",
        "u = mda.Universe(pdb_ref, traj)\n",
        "# Align to the first frame (can also align to an average structure)\n",
        "average = align.AverageStructure(u, u, select='protein and name CA',\n",
        "                                 ref_frame=0).run()\n",
        "ref = average.results.universe\n",
        "\n",
        "aligner = align.AlignTraj(u, ref,\n",
        "                          select='protein and name CA',\n",
        "                          in_memory=True).run()\n",
        "\n",
        "pdb_file = u.select_atoms(\"all\")\n",
        "pdb_file.write(\"topology.pdb\")\n",
        "u = mda.Universe(\"topology.pdb\", traj)\n",
        "\n",
        "# Store the initial positions for RMSD calculation\n",
        "initial_position = u.select_atoms(\"name CA\").positions\n",
        "\n",
        "def fun(atoms):\n",
        "    # Convert atoms to AtomGroup\n",
        "    atom_group = u.select_atoms(\"name CA\")\n",
        "\n",
        "    # Calculate RMSD (no alignment)\n",
        "    rmsd = np.sqrt(np.mean(np.sum((u.select_atoms(\"name CA\").positions - initial_position) ** 2, axis=1)))\n",
        "\n",
        "    # Calculate Radius of Gyration (Rg)\n",
        "    com = atom_group.center_of_mass()\n",
        "    rg = np.sqrt(np.mean(np.sum((u.select_atoms(\"name CA\").positions - com) ** 2, axis=1)))\n",
        "\n",
        "    # Data dictionary to log\n",
        "    data_dict = {\n",
        "        'rmsd': f\"{rmsd:.2f} [A]\",\n",
        "        'rg': f\"{rg:.2f} [A]\",\n",
        "    }\n",
        "\n",
        "    return data_dict\n",
        "\n",
        "# Run the analysis\n",
        "a = LogMD.mdanalysis(u, fun, display_notebook=True)\n",
        "# LogMD.display_notebook(a, width=1200, height=800)"
      ],
      "metadata": {
        "cellView": "form",
        "id": "Tmp-qESfe7S5"
      },
      "execution_count": null,
      "outputs": []
    },
    {
      "cell_type": "markdown",
      "source": [
        "# **Calculating the Root Mean Square Fluctuation (RMSF) Over a Ensemble**\n",
        "\n",
        "The root-mean-square-fluctuation (RMSF) of a structure is the time average of the RMSD. It is calculated according to the following equation, where $ x_i $ is the coordinates of particle $ i $, and $ \\langle x_i \\rangle $ is the ensemble average position of $ i $.\n",
        "\n",
        "$ \\rho_i = \\sqrt{\\left\\langle (x_i - \\langle x_i \\rangle)^2 \\right\\rangle} $\n",
        "\n",
        "Where the RMSD quantifies how much a structure diverges from a reference over time, the RMSF can reveal which areas of the system are the most mobile. While RMSD is frequently calculated to an initial state, the RMSF should be calculated to an average structure of the simulation. An area of the structure with high RMSF values frequently diverges from the average, indicating high mobility. When RMSF analysis is carried out on proteins, it is typically restricted to backbone or alpha-carbon atoms; these are more characteristic of conformational changes than the more flexible side-chains.\n"
      ],
      "metadata": {
        "id": "KSqzeIsCgoZB"
      }
    },
    {
      "cell_type": "code",
      "source": [
        "#@title **Calculate RMSF of ensemble**\n",
        "\n",
        "#@markdown ###**Select atoms for RMSF calculations:**\n",
        "rmsf_sel = \"protein and name CA\" #@param {type:\"string\"}\n",
        "#@markdown - First we calculate an average structure, then align each prediction to it and calculate the ensemble RMSF\n",
        "#@markdown - Selection logic should follow [MDAnalysis syntax](https://docs.mdanalysis.org/stable/documentation_pages/selections.html)\n",
        "\n",
        "import os\n",
        "import glob\n",
        "import re\n",
        "import pandas as pd\n",
        "import numpy as np\n",
        "import warnings\n",
        "\n",
        "import matplotlib.pyplot as plt\n",
        "from matplotlib.lines import Line2D\n",
        "import matplotlib.cm as cm\n",
        "import seaborn as sns\n",
        "\n",
        "import MDAnalysis as mda\n",
        "from MDAnalysis.analysis import pca, align, rms\n",
        "\n",
        "warnings.filterwarnings(\"ignore\")\n",
        "\n",
        "workDir2 = os.path.join(workDir, output)\n",
        "pdb_ref=  os.path.join(workDir2, \"topology_fix.pdb\")\n",
        "traj = os.path.join(workDir2, \"samples_fix.\" + str(Output_format))\n",
        "\n",
        "u = mda.Universe(pdb_ref, traj)\n",
        "\n",
        "average = align.AverageStructure(u, u, select=rmsf_sel, ref_frame=0).run()\n",
        "ref = average.results.universe\n",
        "aligner = align.AlignTraj(u, ref, select=rmsf_sel, in_memory=True).run()\n",
        "c_alphas = u.select_atoms(rmsf_sel)\n",
        "R = rms.RMSF(c_alphas).run()"
      ],
      "metadata": {
        "cellView": "form",
        "id": "CNtkahyWZ0dc"
      },
      "execution_count": null,
      "outputs": []
    },
    {
      "cell_type": "code",
      "source": [
        "#@title **Plot RMSFs**\n",
        "\n",
        "# reorder = False # @param {type:\"boolean\"}\n",
        "#new_first_index = \"0\" #@param {type:\"string\"}\n",
        "import matplotlib.pyplot as plt\n",
        "import pandas as pd\n",
        "\n",
        "resid = c_alphas.resids\n",
        "#@markdown ###**Residue (c-alpha) range to plot RMSF results:**\n",
        "first_plotted_residue = min(c_alphas.resids)\n",
        "last_plotted_residue = max(c_alphas.resids)\n",
        "Output_name = 'rmsf_ca' #@param {type:\"string\"}\n",
        "\n",
        "fig, ax = plt.subplots()\n",
        "colors = ['blue', 'orange', 'green', 'purple', 'red', 'brown', 'magenta']\n",
        "# Plotting on the passed axes object\n",
        "plt.xticks(fontsize = 12)\n",
        "plt.yticks(fontsize = 12)\n",
        "ax.plot(resid, R.results.rmsf, color='red')\n",
        "ax.set_xlabel('Residue number', fontsize = 14, fontweight = 'bold')\n",
        "ax.set_ylabel('RMSF ($\\AA$)', fontsize = 14, fontweight = 'bold')\n",
        "ax.set_xlim(int(first_plotted_residue), int(last_plotted_residue))\n",
        "plt.savefig(f'rmsf.png', dpi=600, bbox_inches='tight')\n",
        "plt.savefig(os.path.join(workDir, Output_name + \".png\"), dpi=600, bbox_inches='tight')\n",
        "\n",
        "raw_data=pd.DataFrame(R.results.rmsf)\n",
        "raw_data.to_csv(os.path.join(workDir, Output_name + \".csv\"))"
      ],
      "metadata": {
        "cellView": "form",
        "id": "FbaGUXMuauY2"
      },
      "execution_count": null,
      "outputs": []
    },
    {
      "cell_type": "code",
      "source": [
        "#@title **Save the RMSF values as custom B factors and display the 3D structure**\n",
        "\n",
        "import py3Dmol\n",
        "import matplotlib as mpl\n",
        "\n",
        "warnings.filterwarnings(\"ignore\")\n",
        "\n",
        "workDir2 = os.path.join(workDir, output)\n",
        "pdb_ref=  os.path.join(workDir2, \"topology_fix.pdb\")\n",
        "traj = os.path.join(workDir2, \"samples_fix.\" + str(Output_format))\n",
        "\n",
        "u = mda.Universe(pdb_ref, traj)\n",
        "\n",
        "average = align.AverageStructure(u, u, select=rmsf_sel, ref_frame=0).run()\n",
        "ref = average.results.universe\n",
        "aligner = align.AlignTraj(u, ref, select=rmsf_sel, in_memory=True).run()\n",
        "c_alphas = u.select_atoms(rmsf_sel)\n",
        "R = rms.RMSF(c_alphas).run()\n",
        "rmsf_data = pd.DataFrame(R.rmsf,index=c_alphas.resnums,columns=['RMSF']) #Saving the RMSF value for every aC residue\n",
        "rmsf_3d=[]\n",
        "protein_write = u.select_atoms(\"protein\")\n",
        "protein_write.write(\"protein_bfactor.pdb\")\n",
        "u1=mda.Universe(\"protein_bfactor.pdb\",\"protein_bfactor.pdb\")\n",
        "u1.add_TopologyAttr('tempfactors') #Initialization of B factors (tempfactors) by MDA in the Universe atoms\n",
        "for atom in u1.atoms:\n",
        "    rmsf_3d.append(rmsf_data.loc[atom.resid,'RMSF']) #A new list of RMSF must be created by ATOM. Our table has this values per aC. We can create a longer list easily\n",
        "with mda.Writer(os.path.join(workDir, 'protein_rmsf.pdb'), u1) as PDB: #This is the functionality from MDA which allos us to save PDB files.\n",
        "    for ts in u1.trajectory: #I'll save just the first frame in PDB as snapshot\n",
        "        u1.atoms.tempfactors = rmsf_3d #This adds the custom B factors to the PDB snapshot\n",
        "        PDB.write(u1.atoms)\n",
        "\n",
        "def show_pdb(pdb_rmsf, R, analysis_range, color=\"RMSF\"):\n",
        "  view = py3Dmol.view(js='https://3dmol.org/build/3Dmol.js',)\n",
        "  view.addModel(open(pdb_rmsf,'r').read(),'pdb')\n",
        "  u=mda.Universe(pdb_rmsf,pdb_rmsf)\n",
        "  c_alphas = u.select_atoms(analysis_range)\n",
        "  rmsf_data = pd.DataFrame(R.rmsf,index=c_alphas.resnums,columns=['RMSF']) #Saving the RMSF value for every aC residue\n",
        "\n",
        "  if color == \"RMSF\":\n",
        "    view.setStyle({'cartoon': {'colorscheme': {'prop':'b','gradient': 'roygb','min':min(rmsf_data['RMSF']),'max':max(rmsf_data['RMSF'])}}})\n",
        "  elif color == \"rainbow\":\n",
        "    view.setStyle({'cartoon': {'color':'spectrum'}})\n",
        "  elif color == \"chain\":\n",
        "    chains = len(queries[0][1]) + 1 if is_complex else 1\n",
        "    for n,chain,color in zip(range(chains),list(\"ABCDEFGH\"),\n",
        "                     [\"lime\",\"cyan\",\"magenta\",\"yellow\",\"salmon\",\"white\",\"blue\",\"orange\"]):\n",
        "      view.setStyle({'chain':chain},{'cartoon': {'color':color}})\n",
        "\n",
        "  view.zoomTo()\n",
        "  return view\n",
        "\n",
        "def bar_color(pdb_rmsf, R, analysis_range):\n",
        "  u=mda.Universe(pdb_rmsf,pdb_rmsf)\n",
        "  c_alphas = u.select_atoms(analysis_range)\n",
        "  rmsf_data = pd.DataFrame(R.rmsf,index=c_alphas.resnums,columns=['RMSF'])\n",
        "  fig, ax = plt.subplots(figsize=(6, 1))\n",
        "  fig.subplots_adjust(bottom=0.5)\n",
        "\n",
        "  cmap = mpl.cm.jet_r\n",
        "  norm = mpl.colors.Normalize(vmin=min(rmsf_data['RMSF']), vmax=max(rmsf_data['RMSF']))\n",
        "\n",
        "  cb1 = mpl.colorbar.ColorbarBase(ax, cmap=cmap,norm=norm,orientation='horizontal')\n",
        "  cb1.set_label('RMSF (Å)',fontsize=20,fontweight='bold')\n",
        "  cb1.ax.tick_params(labelsize=16)\n",
        "  plt.show()\n",
        "  return fig\n",
        "\n",
        "rmsf_sel = \"name CA\"\n",
        "\n",
        "show_pdb(os.path.join(workDir, 'protein_rmsf.pdb'), R, rmsf_sel, color=\"RMSF\").show()\n",
        "bar_color(os.path.join(workDir, 'protein_rmsf.pdb'), R, rmsf_sel).show()"
      ],
      "metadata": {
        "cellView": "form",
        "id": "Hyev2j8Ea_bf"
      },
      "execution_count": null,
      "outputs": []
    },
    {
      "cell_type": "markdown",
      "source": [
        "---\n",
        "# **Principal component analysis (PCA)**\n",
        "\n",
        "Principal component analysis is a common linear dimensionality reduction technique that maps the coordinates in each frame of your trajectory to a linear combination of orthogonal vectors. The vectors are called principal components, and they are ordered such that the first principal component accounts for the most variance in the original data (i.e. the largest uncorrelated motion in your trajectory), and each successive component accounts for less and less variance. The frame-by-frame conformational fluctuation can be considered a linear combination of the essential dynamics yielded by the PCA. Please see http://www.springer.com/gp/book/9780387954424 and https://doi.org/10.1063/1.4885338, for a more in-depth introduction to PCA."
      ],
      "metadata": {
        "id": "V_VhWMA9f7hg"
      }
    },
    {
      "cell_type": "code",
      "source": [
        "#@title **Calculating the Principal component analysis (PCA)**\n",
        "import warnings\n",
        "warnings.filterwarnings('ignore')\n",
        "\n",
        "#@markdown **Provide inputs below:**\n",
        "Selection1 = '120' #@param {type:\"string\"}\n",
        "Selection2 = '130' #@param {type:\"string\"}\n",
        "\n",
        "import MDAnalysis as mda\n",
        "import MDAnalysis.analysis.pca as pca\n",
        "\n",
        "u = mda.Universe(pdb_ref,traj)\n",
        "pca_calc = pca.PCA(u, select=f'resid {Selection1}:{Selection2}')\n",
        "pca_calc.run()"
      ],
      "metadata": {
        "cellView": "form",
        "id": "YafEviKJt27t"
      },
      "execution_count": null,
      "outputs": []
    },
    {
      "cell_type": "code",
      "source": [
        "#@title **Calculating the Variance of Each Principal Component**\n",
        "import numpy as np\n",
        "import pandas as pd\n",
        "import matplotlib.pyplot as plt\n",
        "import warnings\n",
        "warnings.filterwarnings('ignore')\n",
        "\n",
        "n_pcs = np.where(pca_calc.cumulated_variance > 0.99)[0][0]\n",
        "atomgroup = u.select_atoms(f'resid {Selection1}:{Selection2}')\n",
        "pca_space = pca_calc.transform(atomgroup, n_components=n_pcs)\n",
        "\n",
        "for i in range(10):\n",
        "    print(f\"Cumulated variance for PC{i+1}: {pca_calc.cumulated_variance[i]:.3f}\")\n",
        "\n",
        "transformed = pca_calc.transform(atomgroup, n_components=n_pcs)\n",
        "transformed.shape\n",
        "df = pd.DataFrame(transformed,\n",
        "                  columns=['PC{}'.format(i+1) for i in range(n_pcs)])\n",
        "df['Frame'] = df.index * u.trajectory.dt\n",
        "\n",
        "plt.plot(pca_calc.cumulated_variance[:n_pcs])\n",
        "plt.xticks(fontsize = 12)\n",
        "plt.yticks(fontsize = 12)\n",
        "plt.xlabel('Principal component', fontsize = 14, fontweight = 'bold')\n",
        "plt.ylabel('Cumulative variance', fontsize = 14, fontweight = 'bold')\n",
        "plt.show()"
      ],
      "metadata": {
        "cellView": "form",
        "id": "_nUGyc9Jt-Ug"
      },
      "execution_count": null,
      "outputs": []
    },
    {
      "cell_type": "code",
      "source": [
        "#@title **Plot the Principle Component Analysis (PCA)**\n",
        "\n",
        "#@markdown **Provide which principal component you want to plot:**\n",
        "\n",
        "PC_x = \"1\" #@param [\"1\", \"2\", \"3\", \"4\", \"5\", \"6\", \"7\", \"8\", \"9\", \"10\"]\n",
        "PC_y = \"3\" #@param [\"1\", \"2\", \"3\", \"4\", \"5\", \"6\", \"7\", \"8\", \"9\", \"10\"]\n",
        "\n",
        "\n",
        "import numpy as np\n",
        "import matplotlib.pyplot as plt\n",
        "import seaborn as sns\n",
        "from scipy.stats import gaussian_kde\n",
        "\n",
        "PC1 = df[f'PC{PC_x}'].tolist()\n",
        "PC2 = df[f'PC{PC_y}'].tolist()\n",
        "\n",
        "# Create the figure\n",
        "plt.figure(figsize=(5, 5))\n",
        "plt.scatter(PC1, PC2, s=5, color=\"gray\", alpha=0.2)\n",
        "\n",
        "# Plot a KDE contour map (no fill)\n",
        "sns.kdeplot(x=PC1, y=PC2, cmap=\"viridis\", levels=10, linewidths=1.5)\n",
        "\n",
        "plt.xlabel(f\"PC{PC_x}\", fontsize = 14, fontweight = 'bold')\n",
        "plt.ylabel(f\"PC{PC_y}\", fontsize = 14, fontweight = 'bold')\n",
        "plt.xticks(fontsize = 12)\n",
        "plt.yticks(fontsize = 12)\n",
        "\n",
        "plt.savefig(os.path.join(workDir, f\"PC{PC_x}_PC{PC_y}_2D.png\"), dpi=600, bbox_inches='tight')\n",
        "\n",
        "# Compute KDE\n",
        "xy = np.vstack([PC1, PC2])\n",
        "kde = gaussian_kde(xy)(xy)  # Evaluates the density at each point\n",
        "\n",
        "# 3D plot\n",
        "fig = plt.figure(figsize=(8, 6))\n",
        "ax = fig.add_subplot(projection='3d')\n",
        "\n",
        "# Scatter plot with Z as density\n",
        "ax.scatter(PC1, PC2, kde, c=kde, cmap='viridis')\n",
        "\n",
        "# Labels\n",
        "ax.set_xlabel(f\"PC{PC_x}\", fontsize = 14, fontweight = 'bold')\n",
        "ax.set_ylabel(f\"PC{PC_y}\", fontsize = 14, fontweight = 'bold')\n",
        "ax.set_zlabel(\"Density (Z)\", fontsize = 11, fontweight = 'bold')\n",
        "ax.set_title(\"3D Density Plot of PCA Data\")\n",
        "\n",
        "# plt.show()\n",
        "plt.savefig(os.path.join(workDir, f\"PC{PC_x}_PC{PC_y}_3D.png\"), dpi=600, bbox_inches='tight')\n",
        "pc1=pd.DataFrame(PC1)\n",
        "pc1.to_csv(os.path.join(workDir, f\"PC{PC_x}.csv\"))\n",
        "pc2=pd.DataFrame(PC2)\n",
        "pc2.to_csv(os.path.join(workDir, f\"PC{PC_y}.csv\"))"
      ],
      "metadata": {
        "cellView": "form",
        "id": "RTYuE42buKmD"
      },
      "execution_count": null,
      "outputs": []
    },
    {
      "cell_type": "markdown",
      "metadata": {
        "id": "Emh0vU5UjgB6"
      },
      "source": [
        "---\n",
        "---\n",
        "# **General Analysis**\n",
        "\n",
        "Although visualizing your trajectory can be quite useful, sometimes you also want more quantitative data.\n",
        "\n",
        "Analyses of ensemble trajectories vary a lot and we do not intend to cover it all here. However, one can make use of MDanalysis or PyTraj to easily analyze simulations.\n",
        "\n",
        "Below, you can find a few examples of code snippets that can help you to shed some light on your ensemble behavior."
      ]
    },
    {
      "cell_type": "code",
      "metadata": {
        "id": "wBrBMF4Puyv6",
        "cellView": "form"
      },
      "source": [
        "#@title **Compute RMSD of protein's CA atoms**\n",
        "#@markdown **Provide output file names below:**\n",
        "Output_name = 'rmsd_ca' #@param {type:\"string\"}\n",
        "\n",
        "import matplotlib.pyplot as plt\n",
        "import pandas as pd\n",
        "rmsd = pt.rmsd(traj_load, ref = 0, mask = \"@CA\")\n",
        "\n",
        "# Plotting:\n",
        "ax = plt.plot(rmsd, alpha=0.6, color = 'blue', linewidth = 1.0)\n",
        "plt.xlim(0, len(rmsd))\n",
        "#plt.ylim(2, 6)\n",
        "\n",
        "plt.xlabel(\"Frames\", fontsize = 14, fontweight = 'bold')\n",
        "plt.ylabel(\"RMSD [$\\AA$]\", fontsize = 14, fontweight = 'bold')\n",
        "plt.xticks(fontsize = 12)\n",
        "plt.yticks(fontsize = 12)\n",
        "plt.savefig(os.path.join(workDir, Output_name + \".png\"), dpi=600, bbox_inches='tight')\n",
        "\n",
        "raw_data=pd.DataFrame(rmsd)\n",
        "raw_data.to_csv(os.path.join(workDir, Output_name + \".csv\"))"
      ],
      "execution_count": null,
      "outputs": []
    },
    {
      "cell_type": "code",
      "metadata": {
        "id": "ZHyMpikjuaLT",
        "cellView": "form"
      },
      "source": [
        "#@title **Plot RMSD as a ditribution**\n",
        "\n",
        "#@markdown **Provide output file names below:**\n",
        "Output_name = 'rmsd_dist' #@param {type:\"string\"}\n",
        "import seaborn as sb\n",
        "ax = sb.kdeplot(rmsd, color=\"blue\", shade=True, alpha=0.2, linewidth=0.5)\n",
        "plt.xlabel('RMSD [$\\AA$]', fontsize = 14, fontweight = 'bold')\n",
        "plt.xticks(fontsize = 12)\n",
        "plt.yticks([])\n",
        "plt.ylabel('')\n",
        "ax.spines['top'].set_visible(False)\n",
        "ax.spines['right'].set_visible(False)\n",
        "ax.spines['bottom'].set_visible(True)\n",
        "ax.spines['left'].set_visible(False)\n",
        "\n",
        "plt.savefig(os.path.join(workDir, Output_name + \".png\"), dpi=600, bbox_inches='tight')"
      ],
      "execution_count": null,
      "outputs": []
    },
    {
      "cell_type": "code",
      "metadata": {
        "id": "CvOFrXGXwXrV",
        "cellView": "form"
      },
      "source": [
        "#@title **Compute radius of gyration of protein's CA atoms**\n",
        "\n",
        "#@markdown **Provide output file names below:**\n",
        "Output_name = 'radius_gyration' #@param {type:\"string\"}\n",
        "\n",
        "radgyr = pt.radgyr(traj_load, mask = \"@CA\")\n",
        "# Plotting:\n",
        "plt.plot(radgyr, alpha=0.6, color = 'green', linewidth = 1.0)\n",
        "plt.xlim(0, len(radgyr))\n",
        "#plt.ylim(2, 6)\n",
        "\n",
        "plt.xlabel(\"Frames\", fontsize = 14, fontweight = 'bold')\n",
        "plt.ylabel(\"Radius of gyration ($\\AA$)\", fontsize = 14, fontweight = 'bold')\n",
        "plt.xticks(fontsize = 12)\n",
        "plt.yticks(fontsize = 12)\n",
        "plt.savefig(os.path.join(workDir, Output_name + \".png\"), dpi=600, bbox_inches='tight')\n",
        "\n",
        "raw_data=pd.DataFrame(radgyr)\n",
        "raw_data.to_csv(os.path.join(workDir, Output_name + \".csv\"))"
      ],
      "execution_count": null,
      "outputs": []
    },
    {
      "cell_type": "code",
      "metadata": {
        "id": "2Q7FKg8Fuxr9",
        "cellView": "form"
      },
      "source": [
        "#@title **Plot radius of gyration as a ditribution**\n",
        "\n",
        "#@markdown **Provide output file names below:**\n",
        "Output_name = 'radius_gyration_dist' #@param {type:\"string\"}\n",
        "\n",
        "ax = sb.kdeplot(radgyr, color=\"green\", shade=True, alpha=0.2, linewidth=0.5)\n",
        "plt.xlabel('Radius of gyration ($\\AA$)', fontsize = 14, fontweight = 'bold')\n",
        "plt.xticks(fontsize = 12)\n",
        "plt.yticks([])\n",
        "plt.ylabel('')\n",
        "ax.spines['top'].set_visible(False)\n",
        "ax.spines['right'].set_visible(False)\n",
        "ax.spines['bottom'].set_visible(True)\n",
        "ax.spines['left'].set_visible(False)\n",
        "\n",
        "plt.savefig(os.path.join(workDir, Output_name + \".png\"), dpi=600, bbox_inches='tight')"
      ],
      "execution_count": null,
      "outputs": []
    },
    {
      "cell_type": "code",
      "source": [
        "#@title **Plot RMSD X radius of gyration**\n",
        "\n",
        "#@markdown **Provide output file names below:**\n",
        "\n",
        "Output_name = 'rmsd_radius_gyration' #@param {type:\"string\"}\n",
        "import numpy as np\n",
        "import matplotlib.pyplot as plt\n",
        "import seaborn as sns\n",
        "from scipy.stats import gaussian_kde\n",
        "\n",
        "# Create the figure\n",
        "plt.figure(figsize=(5, 5))\n",
        "plt.scatter(rmsd, radgyr, s=5, color=\"gray\", alpha=0.2)\n",
        "\n",
        "# Plot a KDE contour map (no fill)\n",
        "sns.kdeplot(x=rmsd, y=radgyr, cmap=\"viridis\", levels=10, linewidths=1)\n",
        "\n",
        "plt.xlabel(f\"RMSD (Å)\", fontsize = 14, fontweight = 'bold')\n",
        "plt.ylabel(f\"Radius of Gyration (Å)\", fontsize = 14, fontweight = 'bold')\n",
        "plt.xticks(fontsize = 12)\n",
        "plt.yticks(fontsize = 12)\n",
        "\n",
        "plt.savefig(os.path.join(workDir, Output_name + \".png\"), dpi=600, bbox_inches='tight')"
      ],
      "metadata": {
        "cellView": "form",
        "id": "e3HOvtVaw3J2"
      },
      "execution_count": null,
      "outputs": []
    },
    {
      "cell_type": "code",
      "metadata": {
        "id": "pTDb7CEfkLq1",
        "cellView": "form"
      },
      "source": [
        "#@title **Pearson's Cross Correlation (CC)**\n",
        "\n",
        "#@markdown **Provide output file names below:**\n",
        "Output_name = 'cross_correlation' #@param {type:\"string\"}\n",
        "\n",
        "from pytraj import matrix\n",
        "traj_align = pt.align(traj_load, mask='@CA', ref=0)\n",
        "\n",
        "mat_cc = matrix.correl(traj_align, '@CA')\n",
        "\n",
        "ax = plt.imshow(mat_cc, cmap = 'PiYG_r', interpolation = 'bicubic', vmin = -1, vmax = 1, origin='lower')\n",
        "\n",
        "plt.xlabel('Residues', fontsize = 14, fontweight = 'bold')\n",
        "plt.ylabel('Residues', fontsize = 14, fontweight = 'bold')\n",
        "plt.xticks(fontsize = 12)\n",
        "plt.yticks(fontsize = 12)\n",
        "cbar1 = plt.colorbar()\n",
        "cbar1.set_label('$CC_ij$', fontsize = 14, fontweight = 'bold')\n",
        "\n",
        "plt.savefig(os.path.join(workDir, Output_name + \".png\"), dpi=600, bbox_inches='tight')\n",
        "\n",
        "raw_data=pd.DataFrame(mat_cc)\n",
        "raw_data.to_csv(os.path.join(workDir, Output_name + \".csv\"))"
      ],
      "execution_count": null,
      "outputs": []
    }
  ]
}